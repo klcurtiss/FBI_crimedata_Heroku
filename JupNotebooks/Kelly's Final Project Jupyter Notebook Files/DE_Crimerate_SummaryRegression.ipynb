{
 "cells": [
  {
   "cell_type": "code",
   "execution_count": 1,
   "metadata": {},
   "outputs": [],
   "source": [
    "%matplotlib inline\n",
    "import matplotlib.pyplot as plt\n",
    "import numpy as np\n",
    "import pandas as pd"
   ]
  },
  {
   "cell_type": "code",
   "execution_count": 2,
   "metadata": {},
   "outputs": [
    {
     "data": {
      "text/html": [
       "<div>\n",
       "<style scoped>\n",
       "    .dataframe tbody tr th:only-of-type {\n",
       "        vertical-align: middle;\n",
       "    }\n",
       "\n",
       "    .dataframe tbody tr th {\n",
       "        vertical-align: top;\n",
       "    }\n",
       "\n",
       "    .dataframe thead th {\n",
       "        text-align: right;\n",
       "    }\n",
       "</style>\n",
       "<table border=\"1\" class=\"dataframe\">\n",
       "  <thead>\n",
       "    <tr style=\"text-align: right;\">\n",
       "      <th></th>\n",
       "      <th>state_abbr</th>\n",
       "      <th>year</th>\n",
       "      <th>population</th>\n",
       "      <th>violent_crime</th>\n",
       "      <th>homicide</th>\n",
       "      <th>rape_legacy</th>\n",
       "      <th>robbery</th>\n",
       "      <th>aggravated_assault</th>\n",
       "      <th>property_crime</th>\n",
       "      <th>burglary</th>\n",
       "      <th>larceny</th>\n",
       "      <th>motor_vehicle_theft</th>\n",
       "      <th>total_crime</th>\n",
       "      <th>crime_rate</th>\n",
       "    </tr>\n",
       "  </thead>\n",
       "  <tbody>\n",
       "    <tr>\n",
       "      <th>0</th>\n",
       "      <td>AL</td>\n",
       "      <td>2017</td>\n",
       "      <td>4875120</td>\n",
       "      <td>25469</td>\n",
       "      <td>419</td>\n",
       "      <td>2001</td>\n",
       "      <td>4233</td>\n",
       "      <td>18816</td>\n",
       "      <td>143774</td>\n",
       "      <td>31270</td>\n",
       "      <td>99707</td>\n",
       "      <td>12797</td>\n",
       "      <td>338486</td>\n",
       "      <td>6.943132</td>\n",
       "    </tr>\n",
       "    <tr>\n",
       "      <th>1</th>\n",
       "      <td>AL</td>\n",
       "      <td>2018</td>\n",
       "      <td>4887681</td>\n",
       "      <td>25567</td>\n",
       "      <td>383</td>\n",
       "      <td>2032</td>\n",
       "      <td>4047</td>\n",
       "      <td>19105</td>\n",
       "      <td>138702</td>\n",
       "      <td>29101</td>\n",
       "      <td>96328</td>\n",
       "      <td>13273</td>\n",
       "      <td>328538</td>\n",
       "      <td>6.721756</td>\n",
       "    </tr>\n",
       "    <tr>\n",
       "      <th>2</th>\n",
       "      <td>AL</td>\n",
       "      <td>2019</td>\n",
       "      <td>4903185</td>\n",
       "      <td>25046</td>\n",
       "      <td>358</td>\n",
       "      <td>2068</td>\n",
       "      <td>3941</td>\n",
       "      <td>18679</td>\n",
       "      <td>131133</td>\n",
       "      <td>26079</td>\n",
       "      <td>92477</td>\n",
       "      <td>12577</td>\n",
       "      <td>312358</td>\n",
       "      <td>6.370512</td>\n",
       "    </tr>\n",
       "    <tr>\n",
       "      <th>3</th>\n",
       "      <td>AK</td>\n",
       "      <td>2017</td>\n",
       "      <td>739786</td>\n",
       "      <td>6338</td>\n",
       "      <td>62</td>\n",
       "      <td>1074</td>\n",
       "      <td>952</td>\n",
       "      <td>4250</td>\n",
       "      <td>26203</td>\n",
       "      <td>4167</td>\n",
       "      <td>17782</td>\n",
       "      <td>4254</td>\n",
       "      <td>65082</td>\n",
       "      <td>8.797409</td>\n",
       "    </tr>\n",
       "    <tr>\n",
       "      <th>4</th>\n",
       "      <td>AK</td>\n",
       "      <td>2018</td>\n",
       "      <td>735139</td>\n",
       "      <td>6555</td>\n",
       "      <td>47</td>\n",
       "      <td>1212</td>\n",
       "      <td>896</td>\n",
       "      <td>4400</td>\n",
       "      <td>24345</td>\n",
       "      <td>3985</td>\n",
       "      <td>16364</td>\n",
       "      <td>3996</td>\n",
       "      <td>61800</td>\n",
       "      <td>8.406573</td>\n",
       "    </tr>\n",
       "  </tbody>\n",
       "</table>\n",
       "</div>"
      ],
      "text/plain": [
       "  state_abbr  year  population  violent_crime  homicide  rape_legacy  robbery  \\\n",
       "0         AL  2017     4875120          25469       419         2001     4233   \n",
       "1         AL  2018     4887681          25567       383         2032     4047   \n",
       "2         AL  2019     4903185          25046       358         2068     3941   \n",
       "3         AK  2017      739786           6338        62         1074      952   \n",
       "4         AK  2018      735139           6555        47         1212      896   \n",
       "\n",
       "   aggravated_assault  property_crime  burglary  larceny  motor_vehicle_theft  \\\n",
       "0               18816          143774     31270    99707                12797   \n",
       "1               19105          138702     29101    96328                13273   \n",
       "2               18679          131133     26079    92477                12577   \n",
       "3                4250           26203      4167    17782                 4254   \n",
       "4                4400           24345      3985    16364                 3996   \n",
       "\n",
       "   total_crime  crime_rate  \n",
       "0       338486    6.943132  \n",
       "1       328538    6.721756  \n",
       "2       312358    6.370512  \n",
       "3        65082    8.797409  \n",
       "4        61800    8.406573  "
      ]
     },
     "execution_count": 2,
     "metadata": {},
     "output_type": "execute_result"
    }
   ],
   "source": [
    "crimeratedata = pd.read_csv('final_crimes.csv')\n",
    "crimeratedata.head()"
   ]
  },
  {
   "cell_type": "code",
   "execution_count": 3,
   "metadata": {},
   "outputs": [],
   "source": [
    "de = crimeratedata['state_abbr']=='DE'"
   ]
  },
  {
   "cell_type": "code",
   "execution_count": 4,
   "metadata": {},
   "outputs": [
    {
     "data": {
      "text/html": [
       "<div>\n",
       "<style scoped>\n",
       "    .dataframe tbody tr th:only-of-type {\n",
       "        vertical-align: middle;\n",
       "    }\n",
       "\n",
       "    .dataframe tbody tr th {\n",
       "        vertical-align: top;\n",
       "    }\n",
       "\n",
       "    .dataframe thead th {\n",
       "        text-align: right;\n",
       "    }\n",
       "</style>\n",
       "<table border=\"1\" class=\"dataframe\">\n",
       "  <thead>\n",
       "    <tr style=\"text-align: right;\">\n",
       "      <th></th>\n",
       "      <th>state_abbr</th>\n",
       "      <th>year</th>\n",
       "      <th>population</th>\n",
       "      <th>violent_crime</th>\n",
       "      <th>homicide</th>\n",
       "      <th>rape_legacy</th>\n",
       "      <th>robbery</th>\n",
       "      <th>aggravated_assault</th>\n",
       "      <th>property_crime</th>\n",
       "      <th>burglary</th>\n",
       "      <th>larceny</th>\n",
       "      <th>motor_vehicle_theft</th>\n",
       "      <th>total_crime</th>\n",
       "      <th>crime_rate</th>\n",
       "    </tr>\n",
       "  </thead>\n",
       "  <tbody>\n",
       "    <tr>\n",
       "      <th>21</th>\n",
       "      <td>DE</td>\n",
       "      <td>2017</td>\n",
       "      <td>957078</td>\n",
       "      <td>4377</td>\n",
       "      <td>51</td>\n",
       "      <td>351</td>\n",
       "      <td>1082</td>\n",
       "      <td>2893</td>\n",
       "      <td>23430</td>\n",
       "      <td>3960</td>\n",
       "      <td>18108</td>\n",
       "      <td>1362</td>\n",
       "      <td>55614</td>\n",
       "      <td>5.810812</td>\n",
       "    </tr>\n",
       "    <tr>\n",
       "      <th>22</th>\n",
       "      <td>DE</td>\n",
       "      <td>2018</td>\n",
       "      <td>965479</td>\n",
       "      <td>4079</td>\n",
       "      <td>46</td>\n",
       "      <td>334</td>\n",
       "      <td>861</td>\n",
       "      <td>2838</td>\n",
       "      <td>22405</td>\n",
       "      <td>3154</td>\n",
       "      <td>17780</td>\n",
       "      <td>1471</td>\n",
       "      <td>52968</td>\n",
       "      <td>5.486189</td>\n",
       "    </tr>\n",
       "    <tr>\n",
       "      <th>23</th>\n",
       "      <td>DE</td>\n",
       "      <td>2019</td>\n",
       "      <td>973764</td>\n",
       "      <td>4115</td>\n",
       "      <td>48</td>\n",
       "      <td>310</td>\n",
       "      <td>790</td>\n",
       "      <td>2967</td>\n",
       "      <td>21931</td>\n",
       "      <td>2968</td>\n",
       "      <td>17359</td>\n",
       "      <td>1604</td>\n",
       "      <td>52092</td>\n",
       "      <td>5.349551</td>\n",
       "    </tr>\n",
       "    <tr>\n",
       "      <th>329</th>\n",
       "      <td>DE</td>\n",
       "      <td>1995</td>\n",
       "      <td>717000</td>\n",
       "      <td>5198</td>\n",
       "      <td>25</td>\n",
       "      <td>575</td>\n",
       "      <td>1425</td>\n",
       "      <td>3173</td>\n",
       "      <td>31790</td>\n",
       "      <td>6491</td>\n",
       "      <td>22329</td>\n",
       "      <td>2970</td>\n",
       "      <td>73976</td>\n",
       "      <td>10.317434</td>\n",
       "    </tr>\n",
       "    <tr>\n",
       "      <th>330</th>\n",
       "      <td>DE</td>\n",
       "      <td>1996</td>\n",
       "      <td>725000</td>\n",
       "      <td>4845</td>\n",
       "      <td>31</td>\n",
       "      <td>454</td>\n",
       "      <td>1304</td>\n",
       "      <td>3056</td>\n",
       "      <td>30643</td>\n",
       "      <td>5830</td>\n",
       "      <td>21665</td>\n",
       "      <td>3148</td>\n",
       "      <td>70976</td>\n",
       "      <td>9.789793</td>\n",
       "    </tr>\n",
       "    <tr>\n",
       "      <th>331</th>\n",
       "      <td>DE</td>\n",
       "      <td>1997</td>\n",
       "      <td>732000</td>\n",
       "      <td>5753</td>\n",
       "      <td>22</td>\n",
       "      <td>428</td>\n",
       "      <td>1783</td>\n",
       "      <td>3520</td>\n",
       "      <td>36578</td>\n",
       "      <td>6421</td>\n",
       "      <td>25904</td>\n",
       "      <td>4253</td>\n",
       "      <td>84662</td>\n",
       "      <td>11.565847</td>\n",
       "    </tr>\n",
       "    <tr>\n",
       "      <th>332</th>\n",
       "      <td>DE</td>\n",
       "      <td>1998</td>\n",
       "      <td>744000</td>\n",
       "      <td>5672</td>\n",
       "      <td>21</td>\n",
       "      <td>499</td>\n",
       "      <td>1445</td>\n",
       "      <td>3707</td>\n",
       "      <td>34230</td>\n",
       "      <td>6395</td>\n",
       "      <td>24649</td>\n",
       "      <td>3186</td>\n",
       "      <td>79804</td>\n",
       "      <td>10.726344</td>\n",
       "    </tr>\n",
       "    <tr>\n",
       "      <th>333</th>\n",
       "      <td>DE</td>\n",
       "      <td>1999</td>\n",
       "      <td>753538</td>\n",
       "      <td>5534</td>\n",
       "      <td>24</td>\n",
       "      <td>529</td>\n",
       "      <td>1492</td>\n",
       "      <td>3489</td>\n",
       "      <td>30922</td>\n",
       "      <td>5245</td>\n",
       "      <td>22634</td>\n",
       "      <td>3043</td>\n",
       "      <td>72912</td>\n",
       "      <td>9.675955</td>\n",
       "    </tr>\n",
       "    <tr>\n",
       "      <th>334</th>\n",
       "      <td>DE</td>\n",
       "      <td>2000</td>\n",
       "      <td>783600</td>\n",
       "      <td>5363</td>\n",
       "      <td>25</td>\n",
       "      <td>424</td>\n",
       "      <td>1394</td>\n",
       "      <td>3520</td>\n",
       "      <td>29727</td>\n",
       "      <td>5216</td>\n",
       "      <td>21360</td>\n",
       "      <td>3151</td>\n",
       "      <td>70180</td>\n",
       "      <td>8.956100</td>\n",
       "    </tr>\n",
       "    <tr>\n",
       "      <th>335</th>\n",
       "      <td>DE</td>\n",
       "      <td>2001</td>\n",
       "      <td>796599</td>\n",
       "      <td>4868</td>\n",
       "      <td>23</td>\n",
       "      <td>420</td>\n",
       "      <td>1156</td>\n",
       "      <td>3269</td>\n",
       "      <td>27399</td>\n",
       "      <td>5144</td>\n",
       "      <td>19476</td>\n",
       "      <td>2779</td>\n",
       "      <td>64534</td>\n",
       "      <td>8.101190</td>\n",
       "    </tr>\n",
       "    <tr>\n",
       "      <th>336</th>\n",
       "      <td>DE</td>\n",
       "      <td>2002</td>\n",
       "      <td>805945</td>\n",
       "      <td>4836</td>\n",
       "      <td>26</td>\n",
       "      <td>358</td>\n",
       "      <td>1154</td>\n",
       "      <td>3298</td>\n",
       "      <td>26967</td>\n",
       "      <td>5355</td>\n",
       "      <td>18555</td>\n",
       "      <td>3057</td>\n",
       "      <td>63606</td>\n",
       "      <td>7.892102</td>\n",
       "    </tr>\n",
       "    <tr>\n",
       "      <th>337</th>\n",
       "      <td>DE</td>\n",
       "      <td>2003</td>\n",
       "      <td>818166</td>\n",
       "      <td>5525</td>\n",
       "      <td>21</td>\n",
       "      <td>370</td>\n",
       "      <td>1441</td>\n",
       "      <td>3693</td>\n",
       "      <td>27943</td>\n",
       "      <td>6066</td>\n",
       "      <td>18933</td>\n",
       "      <td>2944</td>\n",
       "      <td>66936</td>\n",
       "      <td>8.181225</td>\n",
       "    </tr>\n",
       "    <tr>\n",
       "      <th>338</th>\n",
       "      <td>DE</td>\n",
       "      <td>2004</td>\n",
       "      <td>830069</td>\n",
       "      <td>5105</td>\n",
       "      <td>28</td>\n",
       "      <td>357</td>\n",
       "      <td>1343</td>\n",
       "      <td>3377</td>\n",
       "      <td>27256</td>\n",
       "      <td>5669</td>\n",
       "      <td>19285</td>\n",
       "      <td>2302</td>\n",
       "      <td>64722</td>\n",
       "      <td>7.797183</td>\n",
       "    </tr>\n",
       "    <tr>\n",
       "      <th>339</th>\n",
       "      <td>DE</td>\n",
       "      <td>2005</td>\n",
       "      <td>841741</td>\n",
       "      <td>5332</td>\n",
       "      <td>37</td>\n",
       "      <td>377</td>\n",
       "      <td>1306</td>\n",
       "      <td>3612</td>\n",
       "      <td>26245</td>\n",
       "      <td>5811</td>\n",
       "      <td>18085</td>\n",
       "      <td>2349</td>\n",
       "      <td>63154</td>\n",
       "      <td>7.502783</td>\n",
       "    </tr>\n",
       "    <tr>\n",
       "      <th>340</th>\n",
       "      <td>DE</td>\n",
       "      <td>2006</td>\n",
       "      <td>853476</td>\n",
       "      <td>5983</td>\n",
       "      <td>42</td>\n",
       "      <td>417</td>\n",
       "      <td>1791</td>\n",
       "      <td>3733</td>\n",
       "      <td>29670</td>\n",
       "      <td>6337</td>\n",
       "      <td>20449</td>\n",
       "      <td>2884</td>\n",
       "      <td>71306</td>\n",
       "      <td>8.354775</td>\n",
       "    </tr>\n",
       "    <tr>\n",
       "      <th>341</th>\n",
       "      <td>DE</td>\n",
       "      <td>2007</td>\n",
       "      <td>864764</td>\n",
       "      <td>6100</td>\n",
       "      <td>39</td>\n",
       "      <td>341</td>\n",
       "      <td>1763</td>\n",
       "      <td>3957</td>\n",
       "      <td>29216</td>\n",
       "      <td>6420</td>\n",
       "      <td>20454</td>\n",
       "      <td>2342</td>\n",
       "      <td>70632</td>\n",
       "      <td>8.167778</td>\n",
       "    </tr>\n",
       "    <tr>\n",
       "      <th>342</th>\n",
       "      <td>DE</td>\n",
       "      <td>2008</td>\n",
       "      <td>873092</td>\n",
       "      <td>6187</td>\n",
       "      <td>57</td>\n",
       "      <td>371</td>\n",
       "      <td>1847</td>\n",
       "      <td>3912</td>\n",
       "      <td>31385</td>\n",
       "      <td>6783</td>\n",
       "      <td>22045</td>\n",
       "      <td>2557</td>\n",
       "      <td>75144</td>\n",
       "      <td>8.606653</td>\n",
       "    </tr>\n",
       "    <tr>\n",
       "      <th>343</th>\n",
       "      <td>DE</td>\n",
       "      <td>2009</td>\n",
       "      <td>885122</td>\n",
       "      <td>5713</td>\n",
       "      <td>41</td>\n",
       "      <td>395</td>\n",
       "      <td>1680</td>\n",
       "      <td>3597</td>\n",
       "      <td>29685</td>\n",
       "      <td>6943</td>\n",
       "      <td>20836</td>\n",
       "      <td>1906</td>\n",
       "      <td>70796</td>\n",
       "      <td>7.998445</td>\n",
       "    </tr>\n",
       "    <tr>\n",
       "      <th>344</th>\n",
       "      <td>DE</td>\n",
       "      <td>2010</td>\n",
       "      <td>899792</td>\n",
       "      <td>5608</td>\n",
       "      <td>51</td>\n",
       "      <td>326</td>\n",
       "      <td>1839</td>\n",
       "      <td>3392</td>\n",
       "      <td>31078</td>\n",
       "      <td>7550</td>\n",
       "      <td>21593</td>\n",
       "      <td>1935</td>\n",
       "      <td>73372</td>\n",
       "      <td>8.154329</td>\n",
       "    </tr>\n",
       "    <tr>\n",
       "      <th>345</th>\n",
       "      <td>DE</td>\n",
       "      <td>2011</td>\n",
       "      <td>908137</td>\n",
       "      <td>5144</td>\n",
       "      <td>48</td>\n",
       "      <td>307</td>\n",
       "      <td>1558</td>\n",
       "      <td>3231</td>\n",
       "      <td>31163</td>\n",
       "      <td>7617</td>\n",
       "      <td>22001</td>\n",
       "      <td>1545</td>\n",
       "      <td>72614</td>\n",
       "      <td>7.995930</td>\n",
       "    </tr>\n",
       "    <tr>\n",
       "      <th>346</th>\n",
       "      <td>DE</td>\n",
       "      <td>2012</td>\n",
       "      <td>917053</td>\n",
       "      <td>5048</td>\n",
       "      <td>56</td>\n",
       "      <td>249</td>\n",
       "      <td>1498</td>\n",
       "      <td>3245</td>\n",
       "      <td>30707</td>\n",
       "      <td>7389</td>\n",
       "      <td>21880</td>\n",
       "      <td>1438</td>\n",
       "      <td>71510</td>\n",
       "      <td>7.797804</td>\n",
       "    </tr>\n",
       "    <tr>\n",
       "      <th>347</th>\n",
       "      <td>DE</td>\n",
       "      <td>2013</td>\n",
       "      <td>925240</td>\n",
       "      <td>4633</td>\n",
       "      <td>41</td>\n",
       "      <td>278</td>\n",
       "      <td>1233</td>\n",
       "      <td>2960</td>\n",
       "      <td>29001</td>\n",
       "      <td>6299</td>\n",
       "      <td>21347</td>\n",
       "      <td>1355</td>\n",
       "      <td>67147</td>\n",
       "      <td>7.257252</td>\n",
       "    </tr>\n",
       "    <tr>\n",
       "      <th>348</th>\n",
       "      <td>DE</td>\n",
       "      <td>2014</td>\n",
       "      <td>935968</td>\n",
       "      <td>4568</td>\n",
       "      <td>50</td>\n",
       "      <td>274</td>\n",
       "      <td>1271</td>\n",
       "      <td>2857</td>\n",
       "      <td>27915</td>\n",
       "      <td>5765</td>\n",
       "      <td>20885</td>\n",
       "      <td>1265</td>\n",
       "      <td>64850</td>\n",
       "      <td>6.928656</td>\n",
       "    </tr>\n",
       "    <tr>\n",
       "      <th>349</th>\n",
       "      <td>DE</td>\n",
       "      <td>2015</td>\n",
       "      <td>944076</td>\n",
       "      <td>4760</td>\n",
       "      <td>62</td>\n",
       "      <td>361</td>\n",
       "      <td>1240</td>\n",
       "      <td>3097</td>\n",
       "      <td>25545</td>\n",
       "      <td>4797</td>\n",
       "      <td>19555</td>\n",
       "      <td>1193</td>\n",
       "      <td>60610</td>\n",
       "      <td>6.420034</td>\n",
       "    </tr>\n",
       "    <tr>\n",
       "      <th>350</th>\n",
       "      <td>DE</td>\n",
       "      <td>2016</td>\n",
       "      <td>952065</td>\n",
       "      <td>4844</td>\n",
       "      <td>56</td>\n",
       "      <td>308</td>\n",
       "      <td>1359</td>\n",
       "      <td>3121</td>\n",
       "      <td>26334</td>\n",
       "      <td>5023</td>\n",
       "      <td>19791</td>\n",
       "      <td>1520</td>\n",
       "      <td>62356</td>\n",
       "      <td>6.549553</td>\n",
       "    </tr>\n",
       "  </tbody>\n",
       "</table>\n",
       "</div>"
      ],
      "text/plain": [
       "    state_abbr  year  population  violent_crime  homicide  rape_legacy  \\\n",
       "21          DE  2017      957078           4377        51          351   \n",
       "22          DE  2018      965479           4079        46          334   \n",
       "23          DE  2019      973764           4115        48          310   \n",
       "329         DE  1995      717000           5198        25          575   \n",
       "330         DE  1996      725000           4845        31          454   \n",
       "331         DE  1997      732000           5753        22          428   \n",
       "332         DE  1998      744000           5672        21          499   \n",
       "333         DE  1999      753538           5534        24          529   \n",
       "334         DE  2000      783600           5363        25          424   \n",
       "335         DE  2001      796599           4868        23          420   \n",
       "336         DE  2002      805945           4836        26          358   \n",
       "337         DE  2003      818166           5525        21          370   \n",
       "338         DE  2004      830069           5105        28          357   \n",
       "339         DE  2005      841741           5332        37          377   \n",
       "340         DE  2006      853476           5983        42          417   \n",
       "341         DE  2007      864764           6100        39          341   \n",
       "342         DE  2008      873092           6187        57          371   \n",
       "343         DE  2009      885122           5713        41          395   \n",
       "344         DE  2010      899792           5608        51          326   \n",
       "345         DE  2011      908137           5144        48          307   \n",
       "346         DE  2012      917053           5048        56          249   \n",
       "347         DE  2013      925240           4633        41          278   \n",
       "348         DE  2014      935968           4568        50          274   \n",
       "349         DE  2015      944076           4760        62          361   \n",
       "350         DE  2016      952065           4844        56          308   \n",
       "\n",
       "     robbery  aggravated_assault  property_crime  burglary  larceny  \\\n",
       "21      1082                2893           23430      3960    18108   \n",
       "22       861                2838           22405      3154    17780   \n",
       "23       790                2967           21931      2968    17359   \n",
       "329     1425                3173           31790      6491    22329   \n",
       "330     1304                3056           30643      5830    21665   \n",
       "331     1783                3520           36578      6421    25904   \n",
       "332     1445                3707           34230      6395    24649   \n",
       "333     1492                3489           30922      5245    22634   \n",
       "334     1394                3520           29727      5216    21360   \n",
       "335     1156                3269           27399      5144    19476   \n",
       "336     1154                3298           26967      5355    18555   \n",
       "337     1441                3693           27943      6066    18933   \n",
       "338     1343                3377           27256      5669    19285   \n",
       "339     1306                3612           26245      5811    18085   \n",
       "340     1791                3733           29670      6337    20449   \n",
       "341     1763                3957           29216      6420    20454   \n",
       "342     1847                3912           31385      6783    22045   \n",
       "343     1680                3597           29685      6943    20836   \n",
       "344     1839                3392           31078      7550    21593   \n",
       "345     1558                3231           31163      7617    22001   \n",
       "346     1498                3245           30707      7389    21880   \n",
       "347     1233                2960           29001      6299    21347   \n",
       "348     1271                2857           27915      5765    20885   \n",
       "349     1240                3097           25545      4797    19555   \n",
       "350     1359                3121           26334      5023    19791   \n",
       "\n",
       "     motor_vehicle_theft  total_crime  crime_rate  \n",
       "21                  1362        55614    5.810812  \n",
       "22                  1471        52968    5.486189  \n",
       "23                  1604        52092    5.349551  \n",
       "329                 2970        73976   10.317434  \n",
       "330                 3148        70976    9.789793  \n",
       "331                 4253        84662   11.565847  \n",
       "332                 3186        79804   10.726344  \n",
       "333                 3043        72912    9.675955  \n",
       "334                 3151        70180    8.956100  \n",
       "335                 2779        64534    8.101190  \n",
       "336                 3057        63606    7.892102  \n",
       "337                 2944        66936    8.181225  \n",
       "338                 2302        64722    7.797183  \n",
       "339                 2349        63154    7.502783  \n",
       "340                 2884        71306    8.354775  \n",
       "341                 2342        70632    8.167778  \n",
       "342                 2557        75144    8.606653  \n",
       "343                 1906        70796    7.998445  \n",
       "344                 1935        73372    8.154329  \n",
       "345                 1545        72614    7.995930  \n",
       "346                 1438        71510    7.797804  \n",
       "347                 1355        67147    7.257252  \n",
       "348                 1265        64850    6.928656  \n",
       "349                 1193        60610    6.420034  \n",
       "350                 1520        62356    6.549553  "
      ]
     },
     "execution_count": 4,
     "metadata": {},
     "output_type": "execute_result"
    }
   ],
   "source": [
    "decrimerate = crimeratedata.loc[de]\n",
    "decrimerate"
   ]
  },
  {
   "cell_type": "code",
   "execution_count": 5,
   "metadata": {},
   "outputs": [
    {
     "name": "stdout",
     "output_type": "stream",
     "text": [
      "Shape:  (25, 1) (25, 1)\n"
     ]
    },
    {
     "data": {
      "text/plain": [
       "array([[2017],\n",
       "       [2018],\n",
       "       [2019],\n",
       "       [1995],\n",
       "       [1996],\n",
       "       [1997],\n",
       "       [1998],\n",
       "       [1999],\n",
       "       [2000],\n",
       "       [2001],\n",
       "       [2002],\n",
       "       [2003],\n",
       "       [2004],\n",
       "       [2005],\n",
       "       [2006],\n",
       "       [2007],\n",
       "       [2008],\n",
       "       [2009],\n",
       "       [2010],\n",
       "       [2011],\n",
       "       [2012],\n",
       "       [2013],\n",
       "       [2014],\n",
       "       [2015],\n",
       "       [2016]])"
      ]
     },
     "execution_count": 5,
     "metadata": {},
     "output_type": "execute_result"
    }
   ],
   "source": [
    "# Assign the data to X and y\n",
    "# Note: Sklearn requires a two-dimensional array of values\n",
    "# so we use reshape to create this\n",
    "\n",
    "X = decrimerate.year.values.reshape(-1, 1)\n",
    "y = decrimerate.crime_rate.values.reshape(-1, 1)\n",
    "\n",
    "print(\"Shape: \", X.shape, y.shape)\n",
    "X"
   ]
  },
  {
   "cell_type": "code",
   "execution_count": 6,
   "metadata": {},
   "outputs": [
    {
     "data": {
      "text/plain": [
       "<matplotlib.collections.PathCollection at 0x7ff4b42c2610>"
      ]
     },
     "execution_count": 6,
     "metadata": {},
     "output_type": "execute_result"
    },
    {
     "data": {
      "image/png": "[encoded data removed]",
      "text/plain": [
       "<Figure size 432x288 with 1 Axes>"
      ]
     },
     "metadata": {
      "needs_background": "light"
     },
     "output_type": "display_data"
    }
   ],
   "source": [
    "# Plot the data\n",
    "\n",
    "### BEGIN SOLUTION\n",
    "\n",
    "plt.scatter(X, y)\n",
    "\n",
    "### END SOLUTION"
   ]
  },
  {
   "cell_type": "code",
   "execution_count": 7,
   "metadata": {},
   "outputs": [],
   "source": [
    "# Use sklearn's `train_test_split` to split the data into training and testing\n",
    "\n",
    "from sklearn.model_selection import train_test_split\n",
    "\n",
    "### BEGIN SOLUTION\n",
    "\n",
    "X_train, X_test, y_train, y_test = train_test_split(X, y, random_state=42)\n",
    "\n",
    "### END SOLUTION"
   ]
  },
  {
   "cell_type": "code",
   "execution_count": 8,
   "metadata": {},
   "outputs": [],
   "source": [
    "# Create the model\n",
    "\n",
    "### BEGIN SOLUTION\n",
    "\n",
    "from sklearn.linear_model import LinearRegression\n",
    "\n",
    "model = LinearRegression()\n",
    "\n",
    "### END SOLUTION"
   ]
  },
  {
   "cell_type": "code",
   "execution_count": 9,
   "metadata": {},
   "outputs": [
    {
     "data": {
      "text/plain": [
       "LinearRegression(copy_X=True, fit_intercept=True, n_jobs=None, normalize=False)"
      ]
     },
     "execution_count": 9,
     "metadata": {},
     "output_type": "execute_result"
    }
   ],
   "source": [
    "# Fit the model to the training data. \n",
    "\n",
    "### BEGIN SOLUTION\n",
    "\n",
    "model.fit(X_train, y_train)\n",
    "\n",
    "### END SOLUTION"
   ]
  },
  {
   "cell_type": "code",
   "execution_count": 10,
   "metadata": {},
   "outputs": [
    {
     "name": "stdout",
     "output_type": "stream",
     "text": [
      "Mean Squared Error (MSE): 0.6570029045479665\n",
      "R-squared (R2 ): 0.4268304712560802\n"
     ]
    }
   ],
   "source": [
    "# Calculate the mean_squared_error and the r-squared value\n",
    "# for the testing data\n",
    "\n",
    "from sklearn.metrics import mean_squared_error, r2_score\n",
    "\n",
    "### BEGIN SOLUTION\n",
    "\n",
    "# Use our model to make predictions\n",
    "predicted = model.predict(X_test)\n",
    "\n",
    "# Score the predictions with mse and r2\n",
    "mse = mean_squared_error(y_test, predicted)\n",
    "r2 = r2_score(y_test, predicted)\n",
    "\n",
    "print(f\"Mean Squared Error (MSE): {mse}\")\n",
    "print(f\"R-squared (R2 ): {r2}\")\n",
    "\n",
    "### END SOLUTION"
   ]
  },
  {
   "cell_type": "code",
   "execution_count": 11,
   "metadata": {},
   "outputs": [
    {
     "data": {
      "text/plain": [
       "0.4268304712560802"
      ]
     },
     "execution_count": 11,
     "metadata": {},
     "output_type": "execute_result"
    }
   ],
   "source": [
    "# Call the `score` method on the model to show the r2 score\n",
    "\n",
    "### BEGIN SOLUTION\n",
    "model.score(X_test, y_test)\n",
    "### END SOLUTION"
   ]
  },
  {
   "cell_type": "code",
   "execution_count": 12,
   "metadata": {},
   "outputs": [
    {
     "name": "stdout",
     "output_type": "stream",
     "text": [
      "Training Score: 0.8502781083610702\n",
      "Testing Score: 0.4268304712560802\n"
     ]
    }
   ],
   "source": [
    "# Fit the model to the training data and calculate the scores for the training and testing data\n",
    "\n",
    "### BEGIN SOLUTION\n",
    "model.fit(X_train, y_train)\n",
    "training_score = model.score(X_train, y_train)\n",
    "testing_score = model.score(X_test, y_test)\n",
    "\n",
    "### END SOLUTION \n",
    "\n",
    "print(f\"Training Score: {training_score}\")\n",
    "print(f\"Testing Score: {testing_score}\")"
   ]
  },
  {
   "cell_type": "code",
   "execution_count": 13,
   "metadata": {},
   "outputs": [
    {
     "data": {
      "image/png": "[encoded data removed]",
      "text/plain": [
       "<Figure size 432x288 with 1 Axes>"
      ]
     },
     "metadata": {
      "needs_background": "light"
     },
     "output_type": "display_data"
    }
   ],
   "source": [
    "# Plot the Residuals for the Training and Testing data\n",
    "\n",
    "### BEGIN SOLUTION\n",
    "plt.scatter(model.predict(X_train), model.predict(X_train) - y_train, c=\"blue\", label=\"Training Data\")\n",
    "plt.scatter(model.predict(X_test), model.predict(X_test) - y_test, c=\"orange\", label=\"Testing Data\")\n",
    "plt.legend()\n",
    "plt.hlines(y=0, xmin=y.min(), xmax=y.max())\n",
    "plt.title(\"DE Summary Crime Rate Residual Plot\")\n",
    "plt.xlabel('Independent Variable: X')\n",
    "plt.ylabel('Residual Values')\n",
    "plt.savefig('de_summary_crimerate_residualplot.png')\n",
    "### END SOLUTION"
   ]
  },
  {
   "cell_type": "code",
   "execution_count": 14,
   "metadata": {},
   "outputs": [],
   "source": [
    "# This residual plot gives an visual understanding of how \"good\" your predicted values are. \n",
    "# Positive values for the residual (on the y-axis) mean the prediction was too low. \n",
    "# Negative values mean the prediction was too high. \n",
    "# 0 means the guess was exactly correct."
   ]
  },
  {
   "cell_type": "code",
   "execution_count": 15,
   "metadata": {},
   "outputs": [
    {
     "name": "stdout",
     "output_type": "stream",
     "text": [
      "Min X Value: [[1995]]\n",
      "Max X Value: [[2019]]\n"
     ]
    }
   ],
   "source": [
    "# Note: we have to transform our min and max values \n",
    "# so they are in the format: array([[ 1.17]])\n",
    "# This is the required format for `model.predict()`\n",
    "\n",
    "x_min = np.array([[X.min()]])\n",
    "x_max = np.array([[X.max()]])\n",
    "print(f\"Min X Value: {x_min}\")\n",
    "print(f\"Max X Value: {x_max}\")"
   ]
  },
  {
   "cell_type": "code",
   "execution_count": 16,
   "metadata": {},
   "outputs": [],
   "source": [
    "# Calculate the y_min and y_max using model.predict and x_min and x_max\n",
    "\n",
    "### BEGIN SOLUTION\n",
    "y_min = model.predict(x_min)\n",
    "y_max = model.predict(x_max)\n",
    "### END SOLUTION"
   ]
  },
  {
   "cell_type": "code",
   "execution_count": 17,
   "metadata": {},
   "outputs": [
    {
     "data": {
      "image/png": "[encoded data removed]",
      "text/plain": [
       "<Figure size 576x288 with 1 Axes>"
      ]
     },
     "metadata": {
      "needs_background": "light"
     },
     "output_type": "display_data"
    }
   ],
   "source": [
    "# Plot X and y using plt.scatter\n",
    "# Plot the model fit line using [x_min[0], x_max[0]], [y_min[0], y_max[0]]\n",
    "\n",
    "### BEGIN SOLUTION\n",
    "plt.scatter(X, y, c='blue')\n",
    "plt.plot([x_min[0], x_max[0]], [y_min[0], y_max[0]], c='red')\n",
    "plt.title(\"DE Summary Crime Rate Trend\")\n",
    "plt.xlabel(\"Year\")\n",
    "plt.ylabel(\"% of All Crime by Population\")\n",
    "plt.grid(True)\n",
    "plt.gcf().set_size_inches(8,4)\n",
    "plt.legend(('Predicted Crime Rate', 'Actual Crime Rate'), loc='best', framealpha=0.25, prop={'size':'small', 'family':'monospace'})\n",
    "plt.savefig('de_summary_crimerate_trend.png')\n",
    "### END SOLUTION"
   ]
  },
  {
   "cell_type": "code",
   "execution_count": 18,
   "metadata": {},
   "outputs": [
    {
     "data": {
      "text/plain": [
       "array([[10.60371362]])"
      ]
     },
     "execution_count": 18,
     "metadata": {},
     "output_type": "execute_result"
    }
   ],
   "source": [
    "prediction = model.predict([[1995]])\n",
    "prediction"
   ]
  },
  {
   "cell_type": "code",
   "execution_count": 19,
   "metadata": {},
   "outputs": [
    {
     "data": {
      "text/plain": [
       "array([[9.6069098]])"
      ]
     },
     "execution_count": 19,
     "metadata": {},
     "output_type": "execute_result"
    }
   ],
   "source": [
    "prediction1 = model.predict([[2000]])\n",
    "prediction1"
   ]
  },
  {
   "cell_type": "code",
   "execution_count": 20,
   "metadata": {},
   "outputs": [
    {
     "data": {
      "text/plain": [
       "array([[8.61010597]])"
      ]
     },
     "execution_count": 20,
     "metadata": {},
     "output_type": "execute_result"
    }
   ],
   "source": [
    "prediction2 = model.predict([[2005]])\n",
    "prediction2"
   ]
  },
  {
   "cell_type": "code",
   "execution_count": 21,
   "metadata": {},
   "outputs": [
    {
     "data": {
      "text/plain": [
       "array([[7.61330215]])"
      ]
     },
     "execution_count": 21,
     "metadata": {},
     "output_type": "execute_result"
    }
   ],
   "source": [
    "prediction3 = model.predict([[2010]])\n",
    "prediction3"
   ]
  },
  {
   "cell_type": "code",
   "execution_count": 22,
   "metadata": {},
   "outputs": [
    {
     "data": {
      "text/plain": [
       "array([[6.61649833]])"
      ]
     },
     "execution_count": 22,
     "metadata": {},
     "output_type": "execute_result"
    }
   ],
   "source": [
    "prediction4 = model.predict([[2015]])\n",
    "prediction4"
   ]
  },
  {
   "cell_type": "code",
   "execution_count": 23,
   "metadata": {},
   "outputs": [
    {
     "data": {
      "text/plain": [
       "array([[5.61969451]])"
      ]
     },
     "execution_count": 23,
     "metadata": {},
     "output_type": "execute_result"
    }
   ],
   "source": [
    "prediction5 = model.predict([[2020]])\n",
    "prediction5"
   ]
  }
 ],
 "metadata": {
  "kernelspec": {
   "display_name": "Python 3",
   "language": "python",
   "name": "python3"
  },
  "language_info": {
   "codemirror_mode": {
    "name": "ipython",
    "version": 3
   },
   "file_extension": ".py",
   "mimetype": "text/x-python",
   "name": "python",
   "nbconvert_exporter": "python",
   "pygments_lexer": "ipython3",
   "version": "3.7.6"
  }
 },
 "nbformat": 4,
 "nbformat_minor": 4
}
