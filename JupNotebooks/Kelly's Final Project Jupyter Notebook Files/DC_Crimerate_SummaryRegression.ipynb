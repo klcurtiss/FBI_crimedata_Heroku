{
 "cells": [
  {
   "cell_type": "code",
   "execution_count": 1,
   "metadata": {},
   "outputs": [],
   "source": [
    "%matplotlib inline\n",
    "import matplotlib.pyplot as plt\n",
    "import numpy as np\n",
    "import pandas as pd"
   ]
  },
  {
   "cell_type": "code",
   "execution_count": 2,
   "metadata": {},
   "outputs": [
    {
     "data": {
      "text/html": [
       "<div>\n",
       "<style scoped>\n",
       "    .dataframe tbody tr th:only-of-type {\n",
       "        vertical-align: middle;\n",
       "    }\n",
       "\n",
       "    .dataframe tbody tr th {\n",
       "        vertical-align: top;\n",
       "    }\n",
       "\n",
       "    .dataframe thead th {\n",
       "        text-align: right;\n",
       "    }\n",
       "</style>\n",
       "<table border=\"1\" class=\"dataframe\">\n",
       "  <thead>\n",
       "    <tr style=\"text-align: right;\">\n",
       "      <th></th>\n",
       "      <th>state_abbr</th>\n",
       "      <th>year</th>\n",
       "      <th>population</th>\n",
       "      <th>violent_crime</th>\n",
       "      <th>homicide</th>\n",
       "      <th>rape_legacy</th>\n",
       "      <th>robbery</th>\n",
       "      <th>aggravated_assault</th>\n",
       "      <th>property_crime</th>\n",
       "      <th>burglary</th>\n",
       "      <th>larceny</th>\n",
       "      <th>motor_vehicle_theft</th>\n",
       "      <th>total_crime</th>\n",
       "      <th>crime_rate</th>\n",
       "    </tr>\n",
       "  </thead>\n",
       "  <tbody>\n",
       "    <tr>\n",
       "      <th>0</th>\n",
       "      <td>AL</td>\n",
       "      <td>2017</td>\n",
       "      <td>4875120</td>\n",
       "      <td>25469</td>\n",
       "      <td>419</td>\n",
       "      <td>2001</td>\n",
       "      <td>4233</td>\n",
       "      <td>18816</td>\n",
       "      <td>143774</td>\n",
       "      <td>31270</td>\n",
       "      <td>99707</td>\n",
       "      <td>12797</td>\n",
       "      <td>338486</td>\n",
       "      <td>6.943132</td>\n",
       "    </tr>\n",
       "    <tr>\n",
       "      <th>1</th>\n",
       "      <td>AL</td>\n",
       "      <td>2018</td>\n",
       "      <td>4887681</td>\n",
       "      <td>25567</td>\n",
       "      <td>383</td>\n",
       "      <td>2032</td>\n",
       "      <td>4047</td>\n",
       "      <td>19105</td>\n",
       "      <td>138702</td>\n",
       "      <td>29101</td>\n",
       "      <td>96328</td>\n",
       "      <td>13273</td>\n",
       "      <td>328538</td>\n",
       "      <td>6.721756</td>\n",
       "    </tr>\n",
       "    <tr>\n",
       "      <th>2</th>\n",
       "      <td>AL</td>\n",
       "      <td>2019</td>\n",
       "      <td>4903185</td>\n",
       "      <td>25046</td>\n",
       "      <td>358</td>\n",
       "      <td>2068</td>\n",
       "      <td>3941</td>\n",
       "      <td>18679</td>\n",
       "      <td>131133</td>\n",
       "      <td>26079</td>\n",
       "      <td>92477</td>\n",
       "      <td>12577</td>\n",
       "      <td>312358</td>\n",
       "      <td>6.370512</td>\n",
       "    </tr>\n",
       "    <tr>\n",
       "      <th>3</th>\n",
       "      <td>AK</td>\n",
       "      <td>2017</td>\n",
       "      <td>739786</td>\n",
       "      <td>6338</td>\n",
       "      <td>62</td>\n",
       "      <td>1074</td>\n",
       "      <td>952</td>\n",
       "      <td>4250</td>\n",
       "      <td>26203</td>\n",
       "      <td>4167</td>\n",
       "      <td>17782</td>\n",
       "      <td>4254</td>\n",
       "      <td>65082</td>\n",
       "      <td>8.797409</td>\n",
       "    </tr>\n",
       "    <tr>\n",
       "      <th>4</th>\n",
       "      <td>AK</td>\n",
       "      <td>2018</td>\n",
       "      <td>735139</td>\n",
       "      <td>6555</td>\n",
       "      <td>47</td>\n",
       "      <td>1212</td>\n",
       "      <td>896</td>\n",
       "      <td>4400</td>\n",
       "      <td>24345</td>\n",
       "      <td>3985</td>\n",
       "      <td>16364</td>\n",
       "      <td>3996</td>\n",
       "      <td>61800</td>\n",
       "      <td>8.406573</td>\n",
       "    </tr>\n",
       "  </tbody>\n",
       "</table>\n",
       "</div>"
      ],
      "text/plain": [
       "  state_abbr  year  population  violent_crime  homicide  rape_legacy  robbery  \\\n",
       "0         AL  2017     4875120          25469       419         2001     4233   \n",
       "1         AL  2018     4887681          25567       383         2032     4047   \n",
       "2         AL  2019     4903185          25046       358         2068     3941   \n",
       "3         AK  2017      739786           6338        62         1074      952   \n",
       "4         AK  2018      735139           6555        47         1212      896   \n",
       "\n",
       "   aggravated_assault  property_crime  burglary  larceny  motor_vehicle_theft  \\\n",
       "0               18816          143774     31270    99707                12797   \n",
       "1               19105          138702     29101    96328                13273   \n",
       "2               18679          131133     26079    92477                12577   \n",
       "3                4250           26203      4167    17782                 4254   \n",
       "4                4400           24345      3985    16364                 3996   \n",
       "\n",
       "   total_crime  crime_rate  \n",
       "0       338486    6.943132  \n",
       "1       328538    6.721756  \n",
       "2       312358    6.370512  \n",
       "3        65082    8.797409  \n",
       "4        61800    8.406573  "
      ]
     },
     "execution_count": 2,
     "metadata": {},
     "output_type": "execute_result"
    }
   ],
   "source": [
    "crimeratedata = pd.read_csv('final_crimes.csv')\n",
    "crimeratedata.head()"
   ]
  },
  {
   "cell_type": "code",
   "execution_count": 3,
   "metadata": {},
   "outputs": [],
   "source": [
    "dc = crimeratedata['state_abbr']=='DC'"
   ]
  },
  {
   "cell_type": "code",
   "execution_count": 4,
   "metadata": {},
   "outputs": [
    {
     "data": {
      "text/html": [
       "<div>\n",
       "<style scoped>\n",
       "    .dataframe tbody tr th:only-of-type {\n",
       "        vertical-align: middle;\n",
       "    }\n",
       "\n",
       "    .dataframe tbody tr th {\n",
       "        vertical-align: top;\n",
       "    }\n",
       "\n",
       "    .dataframe thead th {\n",
       "        text-align: right;\n",
       "    }\n",
       "</style>\n",
       "<table border=\"1\" class=\"dataframe\">\n",
       "  <thead>\n",
       "    <tr style=\"text-align: right;\">\n",
       "      <th></th>\n",
       "      <th>state_abbr</th>\n",
       "      <th>year</th>\n",
       "      <th>population</th>\n",
       "      <th>violent_crime</th>\n",
       "      <th>homicide</th>\n",
       "      <th>rape_legacy</th>\n",
       "      <th>robbery</th>\n",
       "      <th>aggravated_assault</th>\n",
       "      <th>property_crime</th>\n",
       "      <th>burglary</th>\n",
       "      <th>larceny</th>\n",
       "      <th>motor_vehicle_theft</th>\n",
       "      <th>total_crime</th>\n",
       "      <th>crime_rate</th>\n",
       "    </tr>\n",
       "  </thead>\n",
       "  <tbody>\n",
       "    <tr>\n",
       "      <th>24</th>\n",
       "      <td>DC</td>\n",
       "      <td>2019</td>\n",
       "      <td>705749</td>\n",
       "      <td>7403</td>\n",
       "      <td>166</td>\n",
       "      <td>345</td>\n",
       "      <td>2713</td>\n",
       "      <td>4179</td>\n",
       "      <td>30821</td>\n",
       "      <td>1843</td>\n",
       "      <td>26645</td>\n",
       "      <td>2333</td>\n",
       "      <td>76448</td>\n",
       "      <td>10.832180</td>\n",
       "    </tr>\n",
       "    <tr>\n",
       "      <th>25</th>\n",
       "      <td>DC</td>\n",
       "      <td>2017</td>\n",
       "      <td>695691</td>\n",
       "      <td>6976</td>\n",
       "      <td>116</td>\n",
       "      <td>444</td>\n",
       "      <td>2625</td>\n",
       "      <td>3791</td>\n",
       "      <td>29736</td>\n",
       "      <td>1809</td>\n",
       "      <td>25340</td>\n",
       "      <td>2587</td>\n",
       "      <td>73424</td>\n",
       "      <td>10.554111</td>\n",
       "    </tr>\n",
       "    <tr>\n",
       "      <th>26</th>\n",
       "      <td>DC</td>\n",
       "      <td>2018</td>\n",
       "      <td>701547</td>\n",
       "      <td>6995</td>\n",
       "      <td>160</td>\n",
       "      <td>450</td>\n",
       "      <td>2415</td>\n",
       "      <td>3970</td>\n",
       "      <td>30726</td>\n",
       "      <td>1788</td>\n",
       "      <td>26345</td>\n",
       "      <td>2593</td>\n",
       "      <td>75442</td>\n",
       "      <td>10.753663</td>\n",
       "    </tr>\n",
       "    <tr>\n",
       "      <th>351</th>\n",
       "      <td>DC</td>\n",
       "      <td>1995</td>\n",
       "      <td>554000</td>\n",
       "      <td>14744</td>\n",
       "      <td>360</td>\n",
       "      <td>292</td>\n",
       "      <td>6864</td>\n",
       "      <td>7228</td>\n",
       "      <td>52697</td>\n",
       "      <td>10185</td>\n",
       "      <td>32319</td>\n",
       "      <td>10193</td>\n",
       "      <td>134882</td>\n",
       "      <td>24.346931</td>\n",
       "    </tr>\n",
       "    <tr>\n",
       "      <th>352</th>\n",
       "      <td>DC</td>\n",
       "      <td>1996</td>\n",
       "      <td>543000</td>\n",
       "      <td>13411</td>\n",
       "      <td>397</td>\n",
       "      <td>260</td>\n",
       "      <td>6444</td>\n",
       "      <td>6310</td>\n",
       "      <td>51188</td>\n",
       "      <td>9828</td>\n",
       "      <td>31385</td>\n",
       "      <td>9975</td>\n",
       "      <td>129198</td>\n",
       "      <td>23.793370</td>\n",
       "    </tr>\n",
       "    <tr>\n",
       "      <th>353</th>\n",
       "      <td>DC</td>\n",
       "      <td>1997</td>\n",
       "      <td>529000</td>\n",
       "      <td>10708</td>\n",
       "      <td>301</td>\n",
       "      <td>218</td>\n",
       "      <td>4501</td>\n",
       "      <td>5688</td>\n",
       "      <td>41341</td>\n",
       "      <td>6963</td>\n",
       "      <td>26809</td>\n",
       "      <td>7569</td>\n",
       "      <td>104098</td>\n",
       "      <td>19.678261</td>\n",
       "    </tr>\n",
       "    <tr>\n",
       "      <th>354</th>\n",
       "      <td>DC</td>\n",
       "      <td>1998</td>\n",
       "      <td>523000</td>\n",
       "      <td>8988</td>\n",
       "      <td>260</td>\n",
       "      <td>190</td>\n",
       "      <td>3606</td>\n",
       "      <td>4932</td>\n",
       "      <td>37222</td>\n",
       "      <td>6361</td>\n",
       "      <td>24360</td>\n",
       "      <td>6501</td>\n",
       "      <td>92420</td>\n",
       "      <td>17.671128</td>\n",
       "    </tr>\n",
       "    <tr>\n",
       "      <th>355</th>\n",
       "      <td>DC</td>\n",
       "      <td>1999</td>\n",
       "      <td>519000</td>\n",
       "      <td>8448</td>\n",
       "      <td>241</td>\n",
       "      <td>248</td>\n",
       "      <td>3344</td>\n",
       "      <td>4615</td>\n",
       "      <td>33420</td>\n",
       "      <td>5067</td>\n",
       "      <td>21701</td>\n",
       "      <td>6652</td>\n",
       "      <td>83736</td>\n",
       "      <td>16.134104</td>\n",
       "    </tr>\n",
       "    <tr>\n",
       "      <th>356</th>\n",
       "      <td>DC</td>\n",
       "      <td>2000</td>\n",
       "      <td>572059</td>\n",
       "      <td>8626</td>\n",
       "      <td>239</td>\n",
       "      <td>251</td>\n",
       "      <td>3554</td>\n",
       "      <td>4582</td>\n",
       "      <td>33000</td>\n",
       "      <td>4745</td>\n",
       "      <td>21655</td>\n",
       "      <td>6600</td>\n",
       "      <td>83252</td>\n",
       "      <td>14.553044</td>\n",
       "    </tr>\n",
       "    <tr>\n",
       "      <th>357</th>\n",
       "      <td>DC</td>\n",
       "      <td>2001</td>\n",
       "      <td>573822</td>\n",
       "      <td>9195</td>\n",
       "      <td>231</td>\n",
       "      <td>181</td>\n",
       "      <td>3780</td>\n",
       "      <td>5003</td>\n",
       "      <td>35232</td>\n",
       "      <td>4949</td>\n",
       "      <td>22313</td>\n",
       "      <td>7970</td>\n",
       "      <td>88854</td>\n",
       "      <td>15.484593</td>\n",
       "    </tr>\n",
       "    <tr>\n",
       "      <th>358</th>\n",
       "      <td>DC</td>\n",
       "      <td>2002</td>\n",
       "      <td>569157</td>\n",
       "      <td>9322</td>\n",
       "      <td>264</td>\n",
       "      <td>262</td>\n",
       "      <td>3834</td>\n",
       "      <td>4962</td>\n",
       "      <td>36477</td>\n",
       "      <td>5170</td>\n",
       "      <td>21708</td>\n",
       "      <td>9599</td>\n",
       "      <td>91598</td>\n",
       "      <td>16.093626</td>\n",
       "    </tr>\n",
       "    <tr>\n",
       "      <th>359</th>\n",
       "      <td>DC</td>\n",
       "      <td>2003</td>\n",
       "      <td>557620</td>\n",
       "      <td>9061</td>\n",
       "      <td>249</td>\n",
       "      <td>274</td>\n",
       "      <td>3941</td>\n",
       "      <td>4597</td>\n",
       "      <td>32696</td>\n",
       "      <td>4671</td>\n",
       "      <td>18119</td>\n",
       "      <td>9906</td>\n",
       "      <td>83514</td>\n",
       "      <td>14.976866</td>\n",
       "    </tr>\n",
       "    <tr>\n",
       "      <th>360</th>\n",
       "      <td>DC</td>\n",
       "      <td>2004</td>\n",
       "      <td>554239</td>\n",
       "      <td>7590</td>\n",
       "      <td>198</td>\n",
       "      <td>222</td>\n",
       "      <td>3202</td>\n",
       "      <td>3968</td>\n",
       "      <td>26896</td>\n",
       "      <td>3946</td>\n",
       "      <td>14542</td>\n",
       "      <td>8408</td>\n",
       "      <td>68972</td>\n",
       "      <td>12.444451</td>\n",
       "    </tr>\n",
       "    <tr>\n",
       "      <th>361</th>\n",
       "      <td>DC</td>\n",
       "      <td>2005</td>\n",
       "      <td>582049</td>\n",
       "      <td>8032</td>\n",
       "      <td>195</td>\n",
       "      <td>166</td>\n",
       "      <td>3700</td>\n",
       "      <td>3971</td>\n",
       "      <td>26133</td>\n",
       "      <td>3577</td>\n",
       "      <td>14836</td>\n",
       "      <td>7720</td>\n",
       "      <td>68330</td>\n",
       "      <td>11.739561</td>\n",
       "    </tr>\n",
       "    <tr>\n",
       "      <th>362</th>\n",
       "      <td>DC</td>\n",
       "      <td>2006</td>\n",
       "      <td>581530</td>\n",
       "      <td>8772</td>\n",
       "      <td>169</td>\n",
       "      <td>185</td>\n",
       "      <td>3829</td>\n",
       "      <td>4589</td>\n",
       "      <td>27064</td>\n",
       "      <td>3835</td>\n",
       "      <td>15908</td>\n",
       "      <td>7321</td>\n",
       "      <td>71672</td>\n",
       "      <td>12.324730</td>\n",
       "    </tr>\n",
       "    <tr>\n",
       "      <th>363</th>\n",
       "      <td>DC</td>\n",
       "      <td>2007</td>\n",
       "      <td>588292</td>\n",
       "      <td>8325</td>\n",
       "      <td>181</td>\n",
       "      <td>192</td>\n",
       "      <td>4265</td>\n",
       "      <td>3687</td>\n",
       "      <td>28922</td>\n",
       "      <td>3926</td>\n",
       "      <td>17390</td>\n",
       "      <td>7606</td>\n",
       "      <td>74494</td>\n",
       "      <td>12.662759</td>\n",
       "    </tr>\n",
       "    <tr>\n",
       "      <th>364</th>\n",
       "      <td>DC</td>\n",
       "      <td>2008</td>\n",
       "      <td>591833</td>\n",
       "      <td>8509</td>\n",
       "      <td>186</td>\n",
       "      <td>186</td>\n",
       "      <td>4430</td>\n",
       "      <td>3707</td>\n",
       "      <td>30211</td>\n",
       "      <td>3788</td>\n",
       "      <td>19958</td>\n",
       "      <td>6465</td>\n",
       "      <td>77440</td>\n",
       "      <td>13.084772</td>\n",
       "    </tr>\n",
       "    <tr>\n",
       "      <th>365</th>\n",
       "      <td>DC</td>\n",
       "      <td>2009</td>\n",
       "      <td>599657</td>\n",
       "      <td>8089</td>\n",
       "      <td>145</td>\n",
       "      <td>150</td>\n",
       "      <td>4404</td>\n",
       "      <td>3390</td>\n",
       "      <td>28495</td>\n",
       "      <td>3696</td>\n",
       "      <td>19267</td>\n",
       "      <td>5532</td>\n",
       "      <td>73168</td>\n",
       "      <td>12.201642</td>\n",
       "    </tr>\n",
       "    <tr>\n",
       "      <th>366</th>\n",
       "      <td>DC</td>\n",
       "      <td>2010</td>\n",
       "      <td>604912</td>\n",
       "      <td>8026</td>\n",
       "      <td>132</td>\n",
       "      <td>187</td>\n",
       "      <td>4325</td>\n",
       "      <td>3382</td>\n",
       "      <td>28802</td>\n",
       "      <td>4233</td>\n",
       "      <td>19514</td>\n",
       "      <td>5055</td>\n",
       "      <td>73656</td>\n",
       "      <td>12.176317</td>\n",
       "    </tr>\n",
       "    <tr>\n",
       "      <th>367</th>\n",
       "      <td>DC</td>\n",
       "      <td>2011</td>\n",
       "      <td>619020</td>\n",
       "      <td>7433</td>\n",
       "      <td>108</td>\n",
       "      <td>173</td>\n",
       "      <td>4094</td>\n",
       "      <td>3058</td>\n",
       "      <td>29654</td>\n",
       "      <td>3850</td>\n",
       "      <td>21347</td>\n",
       "      <td>4457</td>\n",
       "      <td>74174</td>\n",
       "      <td>11.982488</td>\n",
       "    </tr>\n",
       "    <tr>\n",
       "      <th>368</th>\n",
       "      <td>DC</td>\n",
       "      <td>2012</td>\n",
       "      <td>633427</td>\n",
       "      <td>7866</td>\n",
       "      <td>88</td>\n",
       "      <td>236</td>\n",
       "      <td>4037</td>\n",
       "      <td>3505</td>\n",
       "      <td>30757</td>\n",
       "      <td>3519</td>\n",
       "      <td>23575</td>\n",
       "      <td>3663</td>\n",
       "      <td>77246</td>\n",
       "      <td>12.194933</td>\n",
       "    </tr>\n",
       "    <tr>\n",
       "      <th>369</th>\n",
       "      <td>DC</td>\n",
       "      <td>2013</td>\n",
       "      <td>649111</td>\n",
       "      <td>8415</td>\n",
       "      <td>103</td>\n",
       "      <td>297</td>\n",
       "      <td>4082</td>\n",
       "      <td>3835</td>\n",
       "      <td>31097</td>\n",
       "      <td>3316</td>\n",
       "      <td>24547</td>\n",
       "      <td>3234</td>\n",
       "      <td>78926</td>\n",
       "      <td>12.159091</td>\n",
       "    </tr>\n",
       "    <tr>\n",
       "      <th>370</th>\n",
       "      <td>DC</td>\n",
       "      <td>2014</td>\n",
       "      <td>659836</td>\n",
       "      <td>8199</td>\n",
       "      <td>105</td>\n",
       "      <td>349</td>\n",
       "      <td>3497</td>\n",
       "      <td>4125</td>\n",
       "      <td>34147</td>\n",
       "      <td>3466</td>\n",
       "      <td>26898</td>\n",
       "      <td>3783</td>\n",
       "      <td>84569</td>\n",
       "      <td>12.816670</td>\n",
       "    </tr>\n",
       "    <tr>\n",
       "      <th>371</th>\n",
       "      <td>DC</td>\n",
       "      <td>2015</td>\n",
       "      <td>670377</td>\n",
       "      <td>8538</td>\n",
       "      <td>162</td>\n",
       "      <td>494</td>\n",
       "      <td>3746</td>\n",
       "      <td>4136</td>\n",
       "      <td>31444</td>\n",
       "      <td>2971</td>\n",
       "      <td>25208</td>\n",
       "      <td>3265</td>\n",
       "      <td>79964</td>\n",
       "      <td>11.928214</td>\n",
       "    </tr>\n",
       "    <tr>\n",
       "      <th>372</th>\n",
       "      <td>DC</td>\n",
       "      <td>2016</td>\n",
       "      <td>681170</td>\n",
       "      <td>8214</td>\n",
       "      <td>139</td>\n",
       "      <td>532</td>\n",
       "      <td>3480</td>\n",
       "      <td>4063</td>\n",
       "      <td>32716</td>\n",
       "      <td>2361</td>\n",
       "      <td>27382</td>\n",
       "      <td>2973</td>\n",
       "      <td>81860</td>\n",
       "      <td>12.017558</td>\n",
       "    </tr>\n",
       "  </tbody>\n",
       "</table>\n",
       "</div>"
      ],
      "text/plain": [
       "    state_abbr  year  population  violent_crime  homicide  rape_legacy  \\\n",
       "24          DC  2019      705749           7403       166          345   \n",
       "25          DC  2017      695691           6976       116          444   \n",
       "26          DC  2018      701547           6995       160          450   \n",
       "351         DC  1995      554000          14744       360          292   \n",
       "352         DC  1996      543000          13411       397          260   \n",
       "353         DC  1997      529000          10708       301          218   \n",
       "354         DC  1998      523000           8988       260          190   \n",
       "355         DC  1999      519000           8448       241          248   \n",
       "356         DC  2000      572059           8626       239          251   \n",
       "357         DC  2001      573822           9195       231          181   \n",
       "358         DC  2002      569157           9322       264          262   \n",
       "359         DC  2003      557620           9061       249          274   \n",
       "360         DC  2004      554239           7590       198          222   \n",
       "361         DC  2005      582049           8032       195          166   \n",
       "362         DC  2006      581530           8772       169          185   \n",
       "363         DC  2007      588292           8325       181          192   \n",
       "364         DC  2008      591833           8509       186          186   \n",
       "365         DC  2009      599657           8089       145          150   \n",
       "366         DC  2010      604912           8026       132          187   \n",
       "367         DC  2011      619020           7433       108          173   \n",
       "368         DC  2012      633427           7866        88          236   \n",
       "369         DC  2013      649111           8415       103          297   \n",
       "370         DC  2014      659836           8199       105          349   \n",
       "371         DC  2015      670377           8538       162          494   \n",
       "372         DC  2016      681170           8214       139          532   \n",
       "\n",
       "     robbery  aggravated_assault  property_crime  burglary  larceny  \\\n",
       "24      2713                4179           30821      1843    26645   \n",
       "25      2625                3791           29736      1809    25340   \n",
       "26      2415                3970           30726      1788    26345   \n",
       "351     6864                7228           52697     10185    32319   \n",
       "352     6444                6310           51188      9828    31385   \n",
       "353     4501                5688           41341      6963    26809   \n",
       "354     3606                4932           37222      6361    24360   \n",
       "355     3344                4615           33420      5067    21701   \n",
       "356     3554                4582           33000      4745    21655   \n",
       "357     3780                5003           35232      4949    22313   \n",
       "358     3834                4962           36477      5170    21708   \n",
       "359     3941                4597           32696      4671    18119   \n",
       "360     3202                3968           26896      3946    14542   \n",
       "361     3700                3971           26133      3577    14836   \n",
       "362     3829                4589           27064      3835    15908   \n",
       "363     4265                3687           28922      3926    17390   \n",
       "364     4430                3707           30211      3788    19958   \n",
       "365     4404                3390           28495      3696    19267   \n",
       "366     4325                3382           28802      4233    19514   \n",
       "367     4094                3058           29654      3850    21347   \n",
       "368     4037                3505           30757      3519    23575   \n",
       "369     4082                3835           31097      3316    24547   \n",
       "370     3497                4125           34147      3466    26898   \n",
       "371     3746                4136           31444      2971    25208   \n",
       "372     3480                4063           32716      2361    27382   \n",
       "\n",
       "     motor_vehicle_theft  total_crime  crime_rate  \n",
       "24                  2333        76448   10.832180  \n",
       "25                  2587        73424   10.554111  \n",
       "26                  2593        75442   10.753663  \n",
       "351                10193       134882   24.346931  \n",
       "352                 9975       129198   23.793370  \n",
       "353                 7569       104098   19.678261  \n",
       "354                 6501        92420   17.671128  \n",
       "355                 6652        83736   16.134104  \n",
       "356                 6600        83252   14.553044  \n",
       "357                 7970        88854   15.484593  \n",
       "358                 9599        91598   16.093626  \n",
       "359                 9906        83514   14.976866  \n",
       "360                 8408        68972   12.444451  \n",
       "361                 7720        68330   11.739561  \n",
       "362                 7321        71672   12.324730  \n",
       "363                 7606        74494   12.662759  \n",
       "364                 6465        77440   13.084772  \n",
       "365                 5532        73168   12.201642  \n",
       "366                 5055        73656   12.176317  \n",
       "367                 4457        74174   11.982488  \n",
       "368                 3663        77246   12.194933  \n",
       "369                 3234        78926   12.159091  \n",
       "370                 3783        84569   12.816670  \n",
       "371                 3265        79964   11.928214  \n",
       "372                 2973        81860   12.017558  "
      ]
     },
     "execution_count": 4,
     "metadata": {},
     "output_type": "execute_result"
    }
   ],
   "source": [
    "dccrimerate = crimeratedata.loc[dc]\n",
    "dccrimerate"
   ]
  },
  {
   "cell_type": "code",
   "execution_count": 5,
   "metadata": {},
   "outputs": [
    {
     "name": "stdout",
     "output_type": "stream",
     "text": [
      "Shape:  (25, 1) (25, 1)\n"
     ]
    },
    {
     "data": {
      "text/plain": [
       "array([[2019],\n",
       "       [2017],\n",
       "       [2018],\n",
       "       [1995],\n",
       "       [1996],\n",
       "       [1997],\n",
       "       [1998],\n",
       "       [1999],\n",
       "       [2000],\n",
       "       [2001],\n",
       "       [2002],\n",
       "       [2003],\n",
       "       [2004],\n",
       "       [2005],\n",
       "       [2006],\n",
       "       [2007],\n",
       "       [2008],\n",
       "       [2009],\n",
       "       [2010],\n",
       "       [2011],\n",
       "       [2012],\n",
       "       [2013],\n",
       "       [2014],\n",
       "       [2015],\n",
       "       [2016]])"
      ]
     },
     "execution_count": 5,
     "metadata": {},
     "output_type": "execute_result"
    }
   ],
   "source": [
    "# Assign the data to X and y\n",
    "# Note: Sklearn requires a two-dimensional array of values\n",
    "# so we use reshape to create this\n",
    "\n",
    "X = dccrimerate.year.values.reshape(-1, 1)\n",
    "y = dccrimerate.crime_rate.values.reshape(-1, 1)\n",
    "\n",
    "print(\"Shape: \", X.shape, y.shape)\n",
    "X"
   ]
  },
  {
   "cell_type": "code",
   "execution_count": 6,
   "metadata": {},
   "outputs": [
    {
     "data": {
      "text/plain": [
       "<matplotlib.collections.PathCollection at 0x7fbc502c23d0>"
      ]
     },
     "execution_count": 6,
     "metadata": {},
     "output_type": "execute_result"
    },
    {
     "data": {
      "image/png": "[encoded data removed]",
      "text/plain": [
       "<Figure size 432x288 with 1 Axes>"
      ]
     },
     "metadata": {
      "needs_background": "light"
     },
     "output_type": "display_data"
    }
   ],
   "source": [
    "# Plot the data\n",
    "\n",
    "### BEGIN SOLUTION\n",
    "\n",
    "plt.scatter(X, y)\n",
    "\n",
    "### END SOLUTION"
   ]
  },
  {
   "cell_type": "code",
   "execution_count": 7,
   "metadata": {},
   "outputs": [],
   "source": [
    "# Use sklearn's `train_test_split` to split the data into training and testing\n",
    "\n",
    "from sklearn.model_selection import train_test_split\n",
    "\n",
    "### BEGIN SOLUTION\n",
    "\n",
    "X_train, X_test, y_train, y_test = train_test_split(X, y, random_state=42)\n",
    "\n",
    "### END SOLUTION"
   ]
  },
  {
   "cell_type": "code",
   "execution_count": 8,
   "metadata": {},
   "outputs": [],
   "source": [
    "# Create the model\n",
    "\n",
    "### BEGIN SOLUTION\n",
    "\n",
    "from sklearn.linear_model import LinearRegression\n",
    "\n",
    "model = LinearRegression()\n",
    "\n",
    "### END SOLUTION"
   ]
  },
  {
   "cell_type": "code",
   "execution_count": 9,
   "metadata": {},
   "outputs": [
    {
     "data": {
      "text/plain": [
       "LinearRegression(copy_X=True, fit_intercept=True, n_jobs=None, normalize=False)"
      ]
     },
     "execution_count": 9,
     "metadata": {},
     "output_type": "execute_result"
    }
   ],
   "source": [
    "# Fit the model to the training data. \n",
    "\n",
    "### BEGIN SOLUTION\n",
    "\n",
    "model.fit(X_train, y_train)\n",
    "\n",
    "### END SOLUTION"
   ]
  },
  {
   "cell_type": "code",
   "execution_count": 10,
   "metadata": {},
   "outputs": [
    {
     "name": "stdout",
     "output_type": "stream",
     "text": [
      "Mean Squared Error (MSE): 5.386522140564329\n",
      "R-squared (R2 ): -0.926525081624386\n"
     ]
    }
   ],
   "source": [
    "# Calculate the mean_squared_error and the r-squared value\n",
    "# for the testing data\n",
    "\n",
    "from sklearn.metrics import mean_squared_error, r2_score\n",
    "\n",
    "### BEGIN SOLUTION\n",
    "\n",
    "# Use our model to make predictions\n",
    "predicted = model.predict(X_test)\n",
    "\n",
    "# Score the predictions with mse and r2\n",
    "mse = mean_squared_error(y_test, predicted)\n",
    "r2 = r2_score(y_test, predicted)\n",
    "\n",
    "print(f\"Mean Squared Error (MSE): {mse}\")\n",
    "print(f\"R-squared (R2 ): {r2}\")\n",
    "\n",
    "### END SOLUTION"
   ]
  },
  {
   "cell_type": "code",
   "execution_count": 11,
   "metadata": {},
   "outputs": [
    {
     "data": {
      "text/plain": [
       "-0.926525081624386"
      ]
     },
     "execution_count": 11,
     "metadata": {},
     "output_type": "execute_result"
    }
   ],
   "source": [
    "# Call the `score` method on the model to show the r2 score\n",
    "\n",
    "### BEGIN SOLUTION\n",
    "model.score(X_test, y_test)\n",
    "### END SOLUTION"
   ]
  },
  {
   "cell_type": "code",
   "execution_count": 12,
   "metadata": {},
   "outputs": [
    {
     "name": "stdout",
     "output_type": "stream",
     "text": [
      "Training Score: 0.7536083351348585\n",
      "Testing Score: -0.926525081624386\n"
     ]
    }
   ],
   "source": [
    "# Fit the model to the training data and calculate the scores for the training and testing data\n",
    "\n",
    "### BEGIN SOLUTION\n",
    "model.fit(X_train, y_train)\n",
    "training_score = model.score(X_train, y_train)\n",
    "testing_score = model.score(X_test, y_test)\n",
    "\n",
    "### END SOLUTION \n",
    "\n",
    "print(f\"Training Score: {training_score}\")\n",
    "print(f\"Testing Score: {testing_score}\")"
   ]
  },
  {
   "cell_type": "code",
   "execution_count": 13,
   "metadata": {},
   "outputs": [
    {
     "data": {
      "image/png": "[encoded data removed]",
      "text/plain": [
       "<Figure size 432x288 with 1 Axes>"
      ]
     },
     "metadata": {
      "needs_background": "light"
     },
     "output_type": "display_data"
    }
   ],
   "source": [
    "# Plot the Residuals for the Training and Testing data\n",
    "\n",
    "### BEGIN SOLUTION\n",
    "plt.scatter(model.predict(X_train), model.predict(X_train) - y_train, c=\"blue\", label=\"Training Data\")\n",
    "plt.scatter(model.predict(X_test), model.predict(X_test) - y_test, c=\"orange\", label=\"Testing Data\")\n",
    "plt.legend()\n",
    "plt.hlines(y=0, xmin=y.min(), xmax=y.max())\n",
    "plt.title(\"DC Summary Crime Rate Residual Plot\")\n",
    "plt.xlabel('Independent Variable: X')\n",
    "plt.ylabel('Residual Values')\n",
    "plt.savefig('dc_summary_crimerate_residualplot.png')\n",
    "### END SOLUTION"
   ]
  },
  {
   "cell_type": "code",
   "execution_count": 14,
   "metadata": {},
   "outputs": [],
   "source": [
    "# This residual plot gives an visual understanding of how \"good\" your predicted values are. \n",
    "# Positive values for the residual (on the y-axis) mean the prediction was too low. \n",
    "# Negative values mean the prediction was too high. \n",
    "# 0 means the guess was exactly correct."
   ]
  },
  {
   "cell_type": "code",
   "execution_count": 15,
   "metadata": {},
   "outputs": [
    {
     "name": "stdout",
     "output_type": "stream",
     "text": [
      "Min X Value: [[1995]]\n",
      "Max X Value: [[2019]]\n"
     ]
    }
   ],
   "source": [
    "# Note: we have to transform our min and max values \n",
    "# so they are in the format: array([[ 1.17]])\n",
    "# This is the required format for `model.predict()`\n",
    "\n",
    "x_min = np.array([[X.min()]])\n",
    "x_max = np.array([[X.max()]])\n",
    "print(f\"Min X Value: {x_min}\")\n",
    "print(f\"Max X Value: {x_max}\")"
   ]
  },
  {
   "cell_type": "code",
   "execution_count": 16,
   "metadata": {},
   "outputs": [],
   "source": [
    "# Calculate the y_min and y_max using model.predict and x_min and x_max\n",
    "\n",
    "### BEGIN SOLUTION\n",
    "y_min = model.predict(x_min)\n",
    "y_max = model.predict(x_max)\n",
    "### END SOLUTION"
   ]
  },
  {
   "cell_type": "code",
   "execution_count": 17,
   "metadata": {},
   "outputs": [
    {
     "data": {
      "image/png": "[encoded data removed]",
      "text/plain": [
       "<Figure size 576x288 with 1 Axes>"
      ]
     },
     "metadata": {
      "needs_background": "light"
     },
     "output_type": "display_data"
    }
   ],
   "source": [
    "# Plot X and y using plt.scatter\n",
    "# Plot the model fit line using [x_min[0], x_max[0]], [y_min[0], y_max[0]]\n",
    "\n",
    "### BEGIN SOLUTION\n",
    "plt.scatter(X, y, c='blue')\n",
    "plt.plot([x_min[0], x_max[0]], [y_min[0], y_max[0]], c='red')\n",
    "plt.title(\"DC Summary Crime Rate Trend\")\n",
    "plt.xlabel(\"Year\")\n",
    "plt.ylabel(\"% of All Crime by Population\")\n",
    "plt.grid(True)\n",
    "plt.gcf().set_size_inches(8,4)\n",
    "plt.legend(('Predicted Crime Rate', 'Actual Crime Rate'), loc='best', framealpha=0.25, prop={'size':'small', 'family':'monospace'})\n",
    "plt.savefig('dc_summary_crimerate_trend.png')\n",
    "### END SOLUTION"
   ]
  },
  {
   "cell_type": "code",
   "execution_count": 18,
   "metadata": {},
   "outputs": [
    {
     "data": {
      "text/plain": [
       "array([[20.28822836]])"
      ]
     },
     "execution_count": 18,
     "metadata": {},
     "output_type": "execute_result"
    }
   ],
   "source": [
    "prediction = model.predict([[1995]])\n",
    "prediction"
   ]
  },
  {
   "cell_type": "code",
   "execution_count": 19,
   "metadata": {},
   "outputs": [
    {
     "data": {
      "text/plain": [
       "array([[17.8774275]])"
      ]
     },
     "execution_count": 19,
     "metadata": {},
     "output_type": "execute_result"
    }
   ],
   "source": [
    "prediction1 = model.predict([[2000]])\n",
    "prediction1"
   ]
  },
  {
   "cell_type": "code",
   "execution_count": 20,
   "metadata": {},
   "outputs": [
    {
     "data": {
      "text/plain": [
       "array([[15.46662665]])"
      ]
     },
     "execution_count": 20,
     "metadata": {},
     "output_type": "execute_result"
    }
   ],
   "source": [
    "prediction2 = model.predict([[2005]])\n",
    "prediction2"
   ]
  },
  {
   "cell_type": "code",
   "execution_count": 21,
   "metadata": {},
   "outputs": [
    {
     "data": {
      "text/plain": [
       "array([[13.05582579]])"
      ]
     },
     "execution_count": 21,
     "metadata": {},
     "output_type": "execute_result"
    }
   ],
   "source": [
    "prediction3 = model.predict([[2010]])\n",
    "prediction3"
   ]
  },
  {
   "cell_type": "code",
   "execution_count": 22,
   "metadata": {},
   "outputs": [
    {
     "data": {
      "text/plain": [
       "array([[10.64502493]])"
      ]
     },
     "execution_count": 22,
     "metadata": {},
     "output_type": "execute_result"
    }
   ],
   "source": [
    "prediction4 = model.predict([[2015]])\n",
    "prediction4"
   ]
  },
  {
   "cell_type": "code",
   "execution_count": 23,
   "metadata": {},
   "outputs": [
    {
     "data": {
      "text/plain": [
       "array([[8.23422407]])"
      ]
     },
     "execution_count": 23,
     "metadata": {},
     "output_type": "execute_result"
    }
   ],
   "source": [
    "prediction5 = model.predict([[2020]])\n",
    "prediction5"
   ]
  }
 ],
 "metadata": {
  "kernelspec": {
   "display_name": "Python 3",
   "language": "python",
   "name": "python3"
  },
  "language_info": {
   "codemirror_mode": {
    "name": "ipython",
    "version": 3
   },
   "file_extension": ".py",
   "mimetype": "text/x-python",
   "name": "python",
   "nbconvert_exporter": "python",
   "pygments_lexer": "ipython3",
   "version": "3.7.6"
  }
 },
 "nbformat": 4,
 "nbformat_minor": 4
}
