{
 "cells": [
  {
   "cell_type": "code",
   "execution_count": 1,
   "metadata": {},
   "outputs": [],
   "source": [
    "%matplotlib inline\n",
    "import matplotlib.pyplot as plt\n",
    "import numpy as np\n",
    "import pandas as pd"
   ]
  },
  {
   "cell_type": "code",
   "execution_count": 2,
   "metadata": {},
   "outputs": [
    {
     "data": {
      "text/html": [
       "<div>\n",
       "<style scoped>\n",
       "    .dataframe tbody tr th:only-of-type {\n",
       "        vertical-align: middle;\n",
       "    }\n",
       "\n",
       "    .dataframe tbody tr th {\n",
       "        vertical-align: top;\n",
       "    }\n",
       "\n",
       "    .dataframe thead th {\n",
       "        text-align: right;\n",
       "    }\n",
       "</style>\n",
       "<table border=\"1\" class=\"dataframe\">\n",
       "  <thead>\n",
       "    <tr style=\"text-align: right;\">\n",
       "      <th></th>\n",
       "      <th>state_abbr</th>\n",
       "      <th>year</th>\n",
       "      <th>population</th>\n",
       "      <th>violent_crime</th>\n",
       "      <th>homicide</th>\n",
       "      <th>rape_legacy</th>\n",
       "      <th>robbery</th>\n",
       "      <th>aggravated_assault</th>\n",
       "      <th>property_crime</th>\n",
       "      <th>burglary</th>\n",
       "      <th>larceny</th>\n",
       "      <th>motor_vehicle_theft</th>\n",
       "      <th>total_crime</th>\n",
       "      <th>crime_rate</th>\n",
       "    </tr>\n",
       "  </thead>\n",
       "  <tbody>\n",
       "    <tr>\n",
       "      <th>0</th>\n",
       "      <td>AL</td>\n",
       "      <td>2017</td>\n",
       "      <td>4875120</td>\n",
       "      <td>25469</td>\n",
       "      <td>419</td>\n",
       "      <td>2001</td>\n",
       "      <td>4233</td>\n",
       "      <td>18816</td>\n",
       "      <td>143774</td>\n",
       "      <td>31270</td>\n",
       "      <td>99707</td>\n",
       "      <td>12797</td>\n",
       "      <td>338486</td>\n",
       "      <td>6.943132</td>\n",
       "    </tr>\n",
       "    <tr>\n",
       "      <th>1</th>\n",
       "      <td>AL</td>\n",
       "      <td>2018</td>\n",
       "      <td>4887681</td>\n",
       "      <td>25567</td>\n",
       "      <td>383</td>\n",
       "      <td>2032</td>\n",
       "      <td>4047</td>\n",
       "      <td>19105</td>\n",
       "      <td>138702</td>\n",
       "      <td>29101</td>\n",
       "      <td>96328</td>\n",
       "      <td>13273</td>\n",
       "      <td>328538</td>\n",
       "      <td>6.721756</td>\n",
       "    </tr>\n",
       "    <tr>\n",
       "      <th>2</th>\n",
       "      <td>AL</td>\n",
       "      <td>2019</td>\n",
       "      <td>4903185</td>\n",
       "      <td>25046</td>\n",
       "      <td>358</td>\n",
       "      <td>2068</td>\n",
       "      <td>3941</td>\n",
       "      <td>18679</td>\n",
       "      <td>131133</td>\n",
       "      <td>26079</td>\n",
       "      <td>92477</td>\n",
       "      <td>12577</td>\n",
       "      <td>312358</td>\n",
       "      <td>6.370512</td>\n",
       "    </tr>\n",
       "    <tr>\n",
       "      <th>3</th>\n",
       "      <td>AK</td>\n",
       "      <td>2017</td>\n",
       "      <td>739786</td>\n",
       "      <td>6338</td>\n",
       "      <td>62</td>\n",
       "      <td>1074</td>\n",
       "      <td>952</td>\n",
       "      <td>4250</td>\n",
       "      <td>26203</td>\n",
       "      <td>4167</td>\n",
       "      <td>17782</td>\n",
       "      <td>4254</td>\n",
       "      <td>65082</td>\n",
       "      <td>8.797409</td>\n",
       "    </tr>\n",
       "    <tr>\n",
       "      <th>4</th>\n",
       "      <td>AK</td>\n",
       "      <td>2018</td>\n",
       "      <td>735139</td>\n",
       "      <td>6555</td>\n",
       "      <td>47</td>\n",
       "      <td>1212</td>\n",
       "      <td>896</td>\n",
       "      <td>4400</td>\n",
       "      <td>24345</td>\n",
       "      <td>3985</td>\n",
       "      <td>16364</td>\n",
       "      <td>3996</td>\n",
       "      <td>61800</td>\n",
       "      <td>8.406573</td>\n",
       "    </tr>\n",
       "  </tbody>\n",
       "</table>\n",
       "</div>"
      ],
      "text/plain": [
       "  state_abbr  year  population  violent_crime  homicide  rape_legacy  robbery  \\\n",
       "0         AL  2017     4875120          25469       419         2001     4233   \n",
       "1         AL  2018     4887681          25567       383         2032     4047   \n",
       "2         AL  2019     4903185          25046       358         2068     3941   \n",
       "3         AK  2017      739786           6338        62         1074      952   \n",
       "4         AK  2018      735139           6555        47         1212      896   \n",
       "\n",
       "   aggravated_assault  property_crime  burglary  larceny  motor_vehicle_theft  \\\n",
       "0               18816          143774     31270    99707                12797   \n",
       "1               19105          138702     29101    96328                13273   \n",
       "2               18679          131133     26079    92477                12577   \n",
       "3                4250           26203      4167    17782                 4254   \n",
       "4                4400           24345      3985    16364                 3996   \n",
       "\n",
       "   total_crime  crime_rate  \n",
       "0       338486    6.943132  \n",
       "1       328538    6.721756  \n",
       "2       312358    6.370512  \n",
       "3        65082    8.797409  \n",
       "4        61800    8.406573  "
      ]
     },
     "execution_count": 2,
     "metadata": {},
     "output_type": "execute_result"
    }
   ],
   "source": [
    "crimeratedata = pd.read_csv('final_crimes.csv')\n",
    "crimeratedata.head()"
   ]
  },
  {
   "cell_type": "code",
   "execution_count": 3,
   "metadata": {},
   "outputs": [],
   "source": [
    "usa = crimeratedata['state_abbr']=='ALL'"
   ]
  },
  {
   "cell_type": "code",
   "execution_count": 4,
   "metadata": {},
   "outputs": [
    {
     "data": {
      "text/html": [
       "<div>\n",
       "<style scoped>\n",
       "    .dataframe tbody tr th:only-of-type {\n",
       "        vertical-align: middle;\n",
       "    }\n",
       "\n",
       "    .dataframe tbody tr th {\n",
       "        vertical-align: top;\n",
       "    }\n",
       "\n",
       "    .dataframe thead th {\n",
       "        text-align: right;\n",
       "    }\n",
       "</style>\n",
       "<table border=\"1\" class=\"dataframe\">\n",
       "  <thead>\n",
       "    <tr style=\"text-align: right;\">\n",
       "      <th></th>\n",
       "      <th>state_abbr</th>\n",
       "      <th>year</th>\n",
       "      <th>population</th>\n",
       "      <th>violent_crime</th>\n",
       "      <th>homicide</th>\n",
       "      <th>rape_legacy</th>\n",
       "      <th>robbery</th>\n",
       "      <th>aggravated_assault</th>\n",
       "      <th>property_crime</th>\n",
       "      <th>burglary</th>\n",
       "      <th>larceny</th>\n",
       "      <th>motor_vehicle_theft</th>\n",
       "      <th>total_crime</th>\n",
       "      <th>crime_rate</th>\n",
       "    </tr>\n",
       "  </thead>\n",
       "  <tbody>\n",
       "    <tr>\n",
       "      <th>153</th>\n",
       "      <td>ALL</td>\n",
       "      <td>1995</td>\n",
       "      <td>262803276</td>\n",
       "      <td>1798792</td>\n",
       "      <td>21606</td>\n",
       "      <td>97470</td>\n",
       "      <td>580509</td>\n",
       "      <td>1099207</td>\n",
       "      <td>12063935</td>\n",
       "      <td>2593784</td>\n",
       "      <td>7997710</td>\n",
       "      <td>1472441</td>\n",
       "      <td>27725454</td>\n",
       "      <td>10.549889</td>\n",
       "    </tr>\n",
       "    <tr>\n",
       "      <th>154</th>\n",
       "      <td>ALL</td>\n",
       "      <td>1996</td>\n",
       "      <td>265228572</td>\n",
       "      <td>1688540</td>\n",
       "      <td>19645</td>\n",
       "      <td>96252</td>\n",
       "      <td>535594</td>\n",
       "      <td>1037049</td>\n",
       "      <td>11805323</td>\n",
       "      <td>2506400</td>\n",
       "      <td>7904685</td>\n",
       "      <td>1394238</td>\n",
       "      <td>26987726</td>\n",
       "      <td>10.175271</td>\n",
       "    </tr>\n",
       "    <tr>\n",
       "      <th>155</th>\n",
       "      <td>ALL</td>\n",
       "      <td>1997</td>\n",
       "      <td>267783607</td>\n",
       "      <td>1636099</td>\n",
       "      <td>18211</td>\n",
       "      <td>96153</td>\n",
       "      <td>498534</td>\n",
       "      <td>1023201</td>\n",
       "      <td>11558975</td>\n",
       "      <td>2461026</td>\n",
       "      <td>7743760</td>\n",
       "      <td>1354189</td>\n",
       "      <td>26390148</td>\n",
       "      <td>9.855027</td>\n",
       "    </tr>\n",
       "    <tr>\n",
       "      <th>156</th>\n",
       "      <td>ALL</td>\n",
       "      <td>1998</td>\n",
       "      <td>270248003</td>\n",
       "      <td>1533887</td>\n",
       "      <td>16974</td>\n",
       "      <td>93144</td>\n",
       "      <td>447186</td>\n",
       "      <td>976583</td>\n",
       "      <td>10951827</td>\n",
       "      <td>2332735</td>\n",
       "      <td>7376311</td>\n",
       "      <td>1242781</td>\n",
       "      <td>24971428</td>\n",
       "      <td>9.240190</td>\n",
       "    </tr>\n",
       "    <tr>\n",
       "      <th>157</th>\n",
       "      <td>ALL</td>\n",
       "      <td>1999</td>\n",
       "      <td>272690813</td>\n",
       "      <td>1426044</td>\n",
       "      <td>15522</td>\n",
       "      <td>89411</td>\n",
       "      <td>409371</td>\n",
       "      <td>911740</td>\n",
       "      <td>10208334</td>\n",
       "      <td>2100739</td>\n",
       "      <td>6955520</td>\n",
       "      <td>1152075</td>\n",
       "      <td>23268756</td>\n",
       "      <td>8.533018</td>\n",
       "    </tr>\n",
       "    <tr>\n",
       "      <th>158</th>\n",
       "      <td>ALL</td>\n",
       "      <td>2000</td>\n",
       "      <td>281421906</td>\n",
       "      <td>1425486</td>\n",
       "      <td>15586</td>\n",
       "      <td>90178</td>\n",
       "      <td>408016</td>\n",
       "      <td>911706</td>\n",
       "      <td>10182584</td>\n",
       "      <td>2050992</td>\n",
       "      <td>6971590</td>\n",
       "      <td>1160002</td>\n",
       "      <td>23216140</td>\n",
       "      <td>8.249585</td>\n",
       "    </tr>\n",
       "    <tr>\n",
       "      <th>159</th>\n",
       "      <td>ALL</td>\n",
       "      <td>2001</td>\n",
       "      <td>285317559</td>\n",
       "      <td>1439480</td>\n",
       "      <td>16037</td>\n",
       "      <td>90863</td>\n",
       "      <td>423557</td>\n",
       "      <td>909023</td>\n",
       "      <td>10437189</td>\n",
       "      <td>2116531</td>\n",
       "      <td>7092267</td>\n",
       "      <td>1228391</td>\n",
       "      <td>23753338</td>\n",
       "      <td>8.325228</td>\n",
       "    </tr>\n",
       "    <tr>\n",
       "      <th>160</th>\n",
       "      <td>ALL</td>\n",
       "      <td>2002</td>\n",
       "      <td>287973924</td>\n",
       "      <td>1423677</td>\n",
       "      <td>16229</td>\n",
       "      <td>95235</td>\n",
       "      <td>420806</td>\n",
       "      <td>891407</td>\n",
       "      <td>10455277</td>\n",
       "      <td>2151252</td>\n",
       "      <td>7057379</td>\n",
       "      <td>1246646</td>\n",
       "      <td>23757908</td>\n",
       "      <td>8.250021</td>\n",
       "    </tr>\n",
       "    <tr>\n",
       "      <th>161</th>\n",
       "      <td>ALL</td>\n",
       "      <td>2003</td>\n",
       "      <td>290788976</td>\n",
       "      <td>1383676</td>\n",
       "      <td>16528</td>\n",
       "      <td>93883</td>\n",
       "      <td>414235</td>\n",
       "      <td>859030</td>\n",
       "      <td>10442862</td>\n",
       "      <td>2154834</td>\n",
       "      <td>7026802</td>\n",
       "      <td>1261226</td>\n",
       "      <td>23653076</td>\n",
       "      <td>8.134103</td>\n",
       "    </tr>\n",
       "    <tr>\n",
       "      <th>162</th>\n",
       "      <td>ALL</td>\n",
       "      <td>2004</td>\n",
       "      <td>293656842</td>\n",
       "      <td>1360088</td>\n",
       "      <td>16148</td>\n",
       "      <td>95089</td>\n",
       "      <td>401470</td>\n",
       "      <td>847381</td>\n",
       "      <td>10319386</td>\n",
       "      <td>2144446</td>\n",
       "      <td>6937089</td>\n",
       "      <td>1237851</td>\n",
       "      <td>23358948</td>\n",
       "      <td>7.954505</td>\n",
       "    </tr>\n",
       "    <tr>\n",
       "      <th>163</th>\n",
       "      <td>ALL</td>\n",
       "      <td>2005</td>\n",
       "      <td>296507061</td>\n",
       "      <td>1390745</td>\n",
       "      <td>16740</td>\n",
       "      <td>94347</td>\n",
       "      <td>417438</td>\n",
       "      <td>862220</td>\n",
       "      <td>10174754</td>\n",
       "      <td>2155448</td>\n",
       "      <td>6783447</td>\n",
       "      <td>1235859</td>\n",
       "      <td>23130998</td>\n",
       "      <td>7.801163</td>\n",
       "    </tr>\n",
       "    <tr>\n",
       "      <th>164</th>\n",
       "      <td>ALL</td>\n",
       "      <td>2006</td>\n",
       "      <td>299398484</td>\n",
       "      <td>1435123</td>\n",
       "      <td>17309</td>\n",
       "      <td>94472</td>\n",
       "      <td>449246</td>\n",
       "      <td>874096</td>\n",
       "      <td>10019601</td>\n",
       "      <td>2194993</td>\n",
       "      <td>6626363</td>\n",
       "      <td>1198245</td>\n",
       "      <td>22909448</td>\n",
       "      <td>7.651825</td>\n",
       "    </tr>\n",
       "    <tr>\n",
       "      <th>165</th>\n",
       "      <td>ALL</td>\n",
       "      <td>2007</td>\n",
       "      <td>301621157</td>\n",
       "      <td>1422970</td>\n",
       "      <td>17128</td>\n",
       "      <td>92160</td>\n",
       "      <td>447324</td>\n",
       "      <td>866358</td>\n",
       "      <td>9882212</td>\n",
       "      <td>2190198</td>\n",
       "      <td>6591542</td>\n",
       "      <td>1100472</td>\n",
       "      <td>22610364</td>\n",
       "      <td>7.496279</td>\n",
       "    </tr>\n",
       "    <tr>\n",
       "      <th>166</th>\n",
       "      <td>ALL</td>\n",
       "      <td>2008</td>\n",
       "      <td>304059724</td>\n",
       "      <td>1394461</td>\n",
       "      <td>16465</td>\n",
       "      <td>90750</td>\n",
       "      <td>443563</td>\n",
       "      <td>843683</td>\n",
       "      <td>9774152</td>\n",
       "      <td>2228887</td>\n",
       "      <td>6586206</td>\n",
       "      <td>959059</td>\n",
       "      <td>22337226</td>\n",
       "      <td>7.346328</td>\n",
       "    </tr>\n",
       "    <tr>\n",
       "      <th>167</th>\n",
       "      <td>ALL</td>\n",
       "      <td>2009</td>\n",
       "      <td>307006550</td>\n",
       "      <td>1325896</td>\n",
       "      <td>15399</td>\n",
       "      <td>89241</td>\n",
       "      <td>408742</td>\n",
       "      <td>812514</td>\n",
       "      <td>9337060</td>\n",
       "      <td>2203313</td>\n",
       "      <td>6338095</td>\n",
       "      <td>795652</td>\n",
       "      <td>21325912</td>\n",
       "      <td>6.946403</td>\n",
       "    </tr>\n",
       "    <tr>\n",
       "      <th>168</th>\n",
       "      <td>ALL</td>\n",
       "      <td>2010</td>\n",
       "      <td>309330219</td>\n",
       "      <td>1251248</td>\n",
       "      <td>14722</td>\n",
       "      <td>85593</td>\n",
       "      <td>369089</td>\n",
       "      <td>781844</td>\n",
       "      <td>9112625</td>\n",
       "      <td>2168459</td>\n",
       "      <td>6204601</td>\n",
       "      <td>739565</td>\n",
       "      <td>20727746</td>\n",
       "      <td>6.700847</td>\n",
       "    </tr>\n",
       "    <tr>\n",
       "      <th>169</th>\n",
       "      <td>ALL</td>\n",
       "      <td>2011</td>\n",
       "      <td>311587816</td>\n",
       "      <td>1206031</td>\n",
       "      <td>14661</td>\n",
       "      <td>84175</td>\n",
       "      <td>354772</td>\n",
       "      <td>752423</td>\n",
       "      <td>9052743</td>\n",
       "      <td>2185140</td>\n",
       "      <td>6151095</td>\n",
       "      <td>716508</td>\n",
       "      <td>20517548</td>\n",
       "      <td>6.584836</td>\n",
       "    </tr>\n",
       "    <tr>\n",
       "      <th>170</th>\n",
       "      <td>ALL</td>\n",
       "      <td>2012</td>\n",
       "      <td>313873685</td>\n",
       "      <td>1217057</td>\n",
       "      <td>14856</td>\n",
       "      <td>85141</td>\n",
       "      <td>355051</td>\n",
       "      <td>762009</td>\n",
       "      <td>9001992</td>\n",
       "      <td>2109932</td>\n",
       "      <td>6168874</td>\n",
       "      <td>723186</td>\n",
       "      <td>20438098</td>\n",
       "      <td>6.511568</td>\n",
       "    </tr>\n",
       "    <tr>\n",
       "      <th>171</th>\n",
       "      <td>ALL</td>\n",
       "      <td>2013</td>\n",
       "      <td>316497531</td>\n",
       "      <td>1168298</td>\n",
       "      <td>14319</td>\n",
       "      <td>82109</td>\n",
       "      <td>345093</td>\n",
       "      <td>726777</td>\n",
       "      <td>8651892</td>\n",
       "      <td>1932139</td>\n",
       "      <td>6019465</td>\n",
       "      <td>700288</td>\n",
       "      <td>19640380</td>\n",
       "      <td>6.205540</td>\n",
       "    </tr>\n",
       "    <tr>\n",
       "      <th>172</th>\n",
       "      <td>ALL</td>\n",
       "      <td>2014</td>\n",
       "      <td>318907401</td>\n",
       "      <td>1153022</td>\n",
       "      <td>14164</td>\n",
       "      <td>84864</td>\n",
       "      <td>322905</td>\n",
       "      <td>731089</td>\n",
       "      <td>8209010</td>\n",
       "      <td>1713153</td>\n",
       "      <td>5809054</td>\n",
       "      <td>686803</td>\n",
       "      <td>18724064</td>\n",
       "      <td>5.871317</td>\n",
       "    </tr>\n",
       "    <tr>\n",
       "      <th>173</th>\n",
       "      <td>ALL</td>\n",
       "      <td>2015</td>\n",
       "      <td>320896618</td>\n",
       "      <td>1199310</td>\n",
       "      <td>15883</td>\n",
       "      <td>126134</td>\n",
       "      <td>328109</td>\n",
       "      <td>764057</td>\n",
       "      <td>8024115</td>\n",
       "      <td>1587564</td>\n",
       "      <td>5723488</td>\n",
       "      <td>713063</td>\n",
       "      <td>18481723</td>\n",
       "      <td>5.759401</td>\n",
       "    </tr>\n",
       "    <tr>\n",
       "      <th>174</th>\n",
       "      <td>ALL</td>\n",
       "      <td>2016</td>\n",
       "      <td>323127513</td>\n",
       "      <td>1248185</td>\n",
       "      <td>17250</td>\n",
       "      <td>130603</td>\n",
       "      <td>332198</td>\n",
       "      <td>803007</td>\n",
       "      <td>7919035</td>\n",
       "      <td>1515096</td>\n",
       "      <td>5638455</td>\n",
       "      <td>765484</td>\n",
       "      <td>18369313</td>\n",
       "      <td>5.684850</td>\n",
       "    </tr>\n",
       "  </tbody>\n",
       "</table>\n",
       "</div>"
      ],
      "text/plain": [
       "    state_abbr  year  population  violent_crime  homicide  rape_legacy  \\\n",
       "153        ALL  1995   262803276        1798792     21606        97470   \n",
       "154        ALL  1996   265228572        1688540     19645        96252   \n",
       "155        ALL  1997   267783607        1636099     18211        96153   \n",
       "156        ALL  1998   270248003        1533887     16974        93144   \n",
       "157        ALL  1999   272690813        1426044     15522        89411   \n",
       "158        ALL  2000   281421906        1425486     15586        90178   \n",
       "159        ALL  2001   285317559        1439480     16037        90863   \n",
       "160        ALL  2002   287973924        1423677     16229        95235   \n",
       "161        ALL  2003   290788976        1383676     16528        93883   \n",
       "162        ALL  2004   293656842        1360088     16148        95089   \n",
       "163        ALL  2005   296507061        1390745     16740        94347   \n",
       "164        ALL  2006   299398484        1435123     17309        94472   \n",
       "165        ALL  2007   301621157        1422970     17128        92160   \n",
       "166        ALL  2008   304059724        1394461     16465        90750   \n",
       "167        ALL  2009   307006550        1325896     15399        89241   \n",
       "168        ALL  2010   309330219        1251248     14722        85593   \n",
       "169        ALL  2011   311587816        1206031     14661        84175   \n",
       "170        ALL  2012   313873685        1217057     14856        85141   \n",
       "171        ALL  2013   316497531        1168298     14319        82109   \n",
       "172        ALL  2014   318907401        1153022     14164        84864   \n",
       "173        ALL  2015   320896618        1199310     15883       126134   \n",
       "174        ALL  2016   323127513        1248185     17250       130603   \n",
       "\n",
       "     robbery  aggravated_assault  property_crime  burglary  larceny  \\\n",
       "153   580509             1099207        12063935   2593784  7997710   \n",
       "154   535594             1037049        11805323   2506400  7904685   \n",
       "155   498534             1023201        11558975   2461026  7743760   \n",
       "156   447186              976583        10951827   2332735  7376311   \n",
       "157   409371              911740        10208334   2100739  6955520   \n",
       "158   408016              911706        10182584   2050992  6971590   \n",
       "159   423557              909023        10437189   2116531  7092267   \n",
       "160   420806              891407        10455277   2151252  7057379   \n",
       "161   414235              859030        10442862   2154834  7026802   \n",
       "162   401470              847381        10319386   2144446  6937089   \n",
       "163   417438              862220        10174754   2155448  6783447   \n",
       "164   449246              874096        10019601   2194993  6626363   \n",
       "165   447324              866358         9882212   2190198  6591542   \n",
       "166   443563              843683         9774152   2228887  6586206   \n",
       "167   408742              812514         9337060   2203313  6338095   \n",
       "168   369089              781844         9112625   2168459  6204601   \n",
       "169   354772              752423         9052743   2185140  6151095   \n",
       "170   355051              762009         9001992   2109932  6168874   \n",
       "171   345093              726777         8651892   1932139  6019465   \n",
       "172   322905              731089         8209010   1713153  5809054   \n",
       "173   328109              764057         8024115   1587564  5723488   \n",
       "174   332198              803007         7919035   1515096  5638455   \n",
       "\n",
       "     motor_vehicle_theft  total_crime  crime_rate  \n",
       "153              1472441     27725454   10.549889  \n",
       "154              1394238     26987726   10.175271  \n",
       "155              1354189     26390148    9.855027  \n",
       "156              1242781     24971428    9.240190  \n",
       "157              1152075     23268756    8.533018  \n",
       "158              1160002     23216140    8.249585  \n",
       "159              1228391     23753338    8.325228  \n",
       "160              1246646     23757908    8.250021  \n",
       "161              1261226     23653076    8.134103  \n",
       "162              1237851     23358948    7.954505  \n",
       "163              1235859     23130998    7.801163  \n",
       "164              1198245     22909448    7.651825  \n",
       "165              1100472     22610364    7.496279  \n",
       "166               959059     22337226    7.346328  \n",
       "167               795652     21325912    6.946403  \n",
       "168               739565     20727746    6.700847  \n",
       "169               716508     20517548    6.584836  \n",
       "170               723186     20438098    6.511568  \n",
       "171               700288     19640380    6.205540  \n",
       "172               686803     18724064    5.871317  \n",
       "173               713063     18481723    5.759401  \n",
       "174               765484     18369313    5.684850  "
      ]
     },
     "execution_count": 4,
     "metadata": {},
     "output_type": "execute_result"
    }
   ],
   "source": [
    "usacrimerate = crimeratedata.loc[usa]\n",
    "usacrimerate"
   ]
  },
  {
   "cell_type": "code",
   "execution_count": 5,
   "metadata": {},
   "outputs": [
    {
     "name": "stdout",
     "output_type": "stream",
     "text": [
      "Shape:  (22, 1) (22, 1)\n"
     ]
    },
    {
     "data": {
      "text/plain": [
       "array([[1995],\n",
       "       [1996],\n",
       "       [1997],\n",
       "       [1998],\n",
       "       [1999],\n",
       "       [2000],\n",
       "       [2001],\n",
       "       [2002],\n",
       "       [2003],\n",
       "       [2004],\n",
       "       [2005],\n",
       "       [2006],\n",
       "       [2007],\n",
       "       [2008],\n",
       "       [2009],\n",
       "       [2010],\n",
       "       [2011],\n",
       "       [2012],\n",
       "       [2013],\n",
       "       [2014],\n",
       "       [2015],\n",
       "       [2016]])"
      ]
     },
     "execution_count": 5,
     "metadata": {},
     "output_type": "execute_result"
    }
   ],
   "source": [
    "# Assign the data to X and y\n",
    "# Note: Sklearn requires a two-dimensional array of values\n",
    "# so we use reshape to create this\n",
    "\n",
    "X = usacrimerate.year.values.reshape(-1, 1)\n",
    "y = usacrimerate.crime_rate.values.reshape(-1, 1)\n",
    "\n",
    "print(\"Shape: \", X.shape, y.shape)\n",
    "X"
   ]
  },
  {
   "cell_type": "code",
   "execution_count": 6,
   "metadata": {},
   "outputs": [
    {
     "data": {
      "text/plain": [
       "<matplotlib.collections.PathCollection at 0x7f9a8eca1850>"
      ]
     },
     "execution_count": 6,
     "metadata": {},
     "output_type": "execute_result"
    },
    {
     "data": {
      "image/png": "[encoded data removed]",
      "text/plain": [
       "<Figure size 432x288 with 1 Axes>"
      ]
     },
     "metadata": {
      "needs_background": "light"
     },
     "output_type": "display_data"
    }
   ],
   "source": [
    "# Plot the data\n",
    "\n",
    "### BEGIN SOLUTION\n",
    "\n",
    "plt.scatter(X, y)\n",
    "\n",
    "### END SOLUTION"
   ]
  },
  {
   "cell_type": "code",
   "execution_count": 7,
   "metadata": {},
   "outputs": [],
   "source": [
    "# Use sklearn's `train_test_split` to split the data into training and testing\n",
    "\n",
    "from sklearn.model_selection import train_test_split\n",
    "\n",
    "### BEGIN SOLUTION\n",
    "\n",
    "X_train, X_test, y_train, y_test = train_test_split(X, y, random_state=42)\n",
    "\n",
    "### END SOLUTION"
   ]
  },
  {
   "cell_type": "code",
   "execution_count": 8,
   "metadata": {},
   "outputs": [],
   "source": [
    "# Create the model\n",
    "\n",
    "### BEGIN SOLUTION\n",
    "\n",
    "from sklearn.linear_model import LinearRegression\n",
    "\n",
    "model = LinearRegression()\n",
    "\n",
    "### END SOLUTION"
   ]
  },
  {
   "cell_type": "code",
   "execution_count": 9,
   "metadata": {},
   "outputs": [
    {
     "data": {
      "text/plain": [
       "LinearRegression(copy_X=True, fit_intercept=True, n_jobs=None, normalize=False)"
      ]
     },
     "execution_count": 9,
     "metadata": {},
     "output_type": "execute_result"
    }
   ],
   "source": [
    "# Fit the model to the training data. \n",
    "\n",
    "### BEGIN SOLUTION\n",
    "\n",
    "model.fit(X_train, y_train)\n",
    "\n",
    "### END SOLUTION"
   ]
  },
  {
   "cell_type": "code",
   "execution_count": 10,
   "metadata": {},
   "outputs": [
    {
     "name": "stdout",
     "output_type": "stream",
     "text": [
      "Mean Squared Error (MSE): 0.21910678500960104\n",
      "R-squared (R2 ): 0.8882964698790288\n"
     ]
    }
   ],
   "source": [
    "# Calculate the mean_squared_error and the r-squared value\n",
    "# for the testing data\n",
    "\n",
    "from sklearn.metrics import mean_squared_error, r2_score\n",
    "\n",
    "### BEGIN SOLUTION\n",
    "\n",
    "# Use our model to make predictions\n",
    "predicted = model.predict(X_test)\n",
    "\n",
    "# Score the predictions with mse and r2\n",
    "mse = mean_squared_error(y_test, predicted)\n",
    "r2 = r2_score(y_test, predicted)\n",
    "\n",
    "print(f\"Mean Squared Error (MSE): {mse}\")\n",
    "print(f\"R-squared (R2 ): {r2}\")\n",
    "\n",
    "### END SOLUTION"
   ]
  },
  {
   "cell_type": "code",
   "execution_count": 11,
   "metadata": {},
   "outputs": [
    {
     "data": {
      "text/plain": [
       "0.8882964698790288"
      ]
     },
     "execution_count": 11,
     "metadata": {},
     "output_type": "execute_result"
    }
   ],
   "source": [
    "# Call the `score` method on the model to show the r2 score\n",
    "\n",
    "### BEGIN SOLUTION\n",
    "model.score(X_test, y_test)\n",
    "### END SOLUTION"
   ]
  },
  {
   "cell_type": "code",
   "execution_count": 12,
   "metadata": {},
   "outputs": [
    {
     "name": "stdout",
     "output_type": "stream",
     "text": [
      "Training Score: 0.9760964732737705\n",
      "Testing Score: 0.8882964698790288\n"
     ]
    }
   ],
   "source": [
    "# Fit the model to the training data and calculate the scores for the training and testing data\n",
    "\n",
    "### BEGIN SOLUTION\n",
    "model.fit(X_train, y_train)\n",
    "training_score = model.score(X_train, y_train)\n",
    "testing_score = model.score(X_test, y_test)\n",
    "\n",
    "### END SOLUTION \n",
    "\n",
    "print(f\"Training Score: {training_score}\")\n",
    "print(f\"Testing Score: {testing_score}\")"
   ]
  },
  {
   "cell_type": "code",
   "execution_count": 13,
   "metadata": {},
   "outputs": [
    {
     "data": {
      "image/png": "[encoded data removed]",
      "text/plain": [
       "<Figure size 432x288 with 1 Axes>"
      ]
     },
     "metadata": {
      "needs_background": "light"
     },
     "output_type": "display_data"
    }
   ],
   "source": [
    "# Plot the Residuals for the Training and Testing data\n",
    "\n",
    "### BEGIN SOLUTION\n",
    "plt.scatter(model.predict(X_train), model.predict(X_train) - y_train, c=\"blue\", label=\"Training Data\")\n",
    "plt.scatter(model.predict(X_test), model.predict(X_test) - y_test, c=\"orange\", label=\"Testing Data\")\n",
    "plt.legend()\n",
    "plt.hlines(y=0, xmin=y.min(), xmax=y.max())\n",
    "plt.title(\"USA Summary Crime Rate Residual Plot\")\n",
    "plt.xlabel('Independent Variable: X')\n",
    "plt.ylabel('Residual Values')\n",
    "plt.savefig('USA_summary_crimerate_residualplot.png')\n",
    "### END SOLUTION"
   ]
  },
  {
   "cell_type": "code",
   "execution_count": 14,
   "metadata": {},
   "outputs": [],
   "source": [
    "# This residual plot gives an visual understanding of how \"good\" your predicted values are. \n",
    "# Positive values for the residual (on the y-axis) mean the prediction was too low. \n",
    "# Negative values mean the prediction was too high. \n",
    "# 0 means the guess was exactly correct."
   ]
  },
  {
   "cell_type": "code",
   "execution_count": 15,
   "metadata": {},
   "outputs": [
    {
     "name": "stdout",
     "output_type": "stream",
     "text": [
      "Min X Value: [[1995]]\n",
      "Max X Value: [[2016]]\n"
     ]
    }
   ],
   "source": [
    "# Note: we have to transform our min and max values \n",
    "# so they are in the format: array([[ 1.17]])\n",
    "# This is the required format for `model.predict()`\n",
    "\n",
    "x_min = np.array([[X.min()]])\n",
    "x_max = np.array([[X.max()]])\n",
    "print(f\"Min X Value: {x_min}\")\n",
    "print(f\"Max X Value: {x_max}\")"
   ]
  },
  {
   "cell_type": "code",
   "execution_count": 16,
   "metadata": {},
   "outputs": [],
   "source": [
    "# Calculate the y_min and y_max using model.predict and x_min and x_max\n",
    "\n",
    "### BEGIN SOLUTION\n",
    "y_min = model.predict(x_min)\n",
    "y_max = model.predict(x_max)\n",
    "### END SOLUTION"
   ]
  },
  {
   "cell_type": "code",
   "execution_count": 17,
   "metadata": {},
   "outputs": [
    {
     "data": {
      "image/png": "[encoded data removed]",
      "text/plain": [
       "<Figure size 576x288 with 1 Axes>"
      ]
     },
     "metadata": {
      "needs_background": "light"
     },
     "output_type": "display_data"
    }
   ],
   "source": [
    "# Plot X and y using plt.scatter\n",
    "# Plot the model fit line using [x_min[0], x_max[0]], [y_min[0], y_max[0]]\n",
    "\n",
    "### BEGIN SOLUTION\n",
    "plt.scatter(X, y, c='blue')\n",
    "plt.plot([x_min[0], x_max[0]], [y_min[0], y_max[0]], c='red')\n",
    "plt.title(\"USA Summary Crime Rate Trend\")\n",
    "plt.xlabel(\"Year\")\n",
    "plt.ylabel(\"% of All Crime by Population\")\n",
    "plt.grid(True)\n",
    "plt.gcf().set_size_inches(8,4)\n",
    "plt.legend(('Predicted Crime Rate', 'Actual Crime Rate'), loc='best', framealpha=0.25, prop={'size':'small', 'family':'monospace'})\n",
    "plt.savefig('usa_summary_crimerate_trend.png')\n",
    "### END SOLUTION"
   ]
  },
  {
   "cell_type": "code",
   "execution_count": 18,
   "metadata": {},
   "outputs": [
    {
     "data": {
      "text/plain": [
       "array([[9.75551495]])"
      ]
     },
     "execution_count": 18,
     "metadata": {},
     "output_type": "execute_result"
    }
   ],
   "source": [
    "prediction = model.predict([[1995]])\n",
    "prediction"
   ]
  },
  {
   "cell_type": "code",
   "execution_count": 19,
   "metadata": {},
   "outputs": [
    {
     "data": {
      "text/plain": [
       "array([[8.76564539]])"
      ]
     },
     "execution_count": 19,
     "metadata": {},
     "output_type": "execute_result"
    }
   ],
   "source": [
    "prediction1 = model.predict([[2000]])\n",
    "prediction1"
   ]
  },
  {
   "cell_type": "code",
   "execution_count": 20,
   "metadata": {},
   "outputs": [
    {
     "data": {
      "text/plain": [
       "array([[7.77577584]])"
      ]
     },
     "execution_count": 20,
     "metadata": {},
     "output_type": "execute_result"
    }
   ],
   "source": [
    "prediction2 = model.predict([[2005]])\n",
    "prediction2"
   ]
  },
  {
   "cell_type": "code",
   "execution_count": 21,
   "metadata": {},
   "outputs": [
    {
     "data": {
      "text/plain": [
       "array([[6.78590628]])"
      ]
     },
     "execution_count": 21,
     "metadata": {},
     "output_type": "execute_result"
    }
   ],
   "source": [
    "prediction3 = model.predict([[2010]])\n",
    "prediction3"
   ]
  },
  {
   "cell_type": "code",
   "execution_count": 22,
   "metadata": {},
   "outputs": [
    {
     "data": {
      "text/plain": [
       "array([[5.79603672]])"
      ]
     },
     "execution_count": 22,
     "metadata": {},
     "output_type": "execute_result"
    }
   ],
   "source": [
    "prediction3 = model.predict([[2015]])\n",
    "prediction3"
   ]
  },
  {
   "cell_type": "code",
   "execution_count": 24,
   "metadata": {},
   "outputs": [
    {
     "data": {
      "text/plain": [
       "array([[4.80616717]])"
      ]
     },
     "execution_count": 24,
     "metadata": {},
     "output_type": "execute_result"
    }
   ],
   "source": [
    "prediction4 = model.predict([[2020]])\n",
    "prediction4"
   ]
  },
  {
   "cell_type": "code",
   "execution_count": null,
   "metadata": {},
   "outputs": [],
   "source": []
  }
 ],
 "metadata": {
  "kernelspec": {
   "display_name": "Python 3",
   "language": "python",
   "name": "python3"
  },
  "language_info": {
   "codemirror_mode": {
    "name": "ipython",
    "version": 3
   },
   "file_extension": ".py",
   "mimetype": "text/x-python",
   "name": "python",
   "nbconvert_exporter": "python",
   "pygments_lexer": "ipython3",
   "version": "3.7.6"
  }
 },
 "nbformat": 4,
 "nbformat_minor": 4
}
