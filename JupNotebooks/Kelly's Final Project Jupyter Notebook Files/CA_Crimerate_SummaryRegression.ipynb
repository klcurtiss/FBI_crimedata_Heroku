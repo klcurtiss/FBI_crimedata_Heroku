{
 "cells": [
  {
   "cell_type": "code",
   "execution_count": 1,
   "metadata": {},
   "outputs": [],
   "source": [
    "%matplotlib inline\n",
    "import matplotlib.pyplot as plt\n",
    "import numpy as np\n",
    "import pandas as pd"
   ]
  },
  {
   "cell_type": "code",
   "execution_count": 2,
   "metadata": {},
   "outputs": [
    {
     "data": {
      "text/html": [
       "<div>\n",
       "<style scoped>\n",
       "    .dataframe tbody tr th:only-of-type {\n",
       "        vertical-align: middle;\n",
       "    }\n",
       "\n",
       "    .dataframe tbody tr th {\n",
       "        vertical-align: top;\n",
       "    }\n",
       "\n",
       "    .dataframe thead th {\n",
       "        text-align: right;\n",
       "    }\n",
       "</style>\n",
       "<table border=\"1\" class=\"dataframe\">\n",
       "  <thead>\n",
       "    <tr style=\"text-align: right;\">\n",
       "      <th></th>\n",
       "      <th>state_abbr</th>\n",
       "      <th>year</th>\n",
       "      <th>population</th>\n",
       "      <th>violent_crime</th>\n",
       "      <th>homicide</th>\n",
       "      <th>rape_legacy</th>\n",
       "      <th>robbery</th>\n",
       "      <th>aggravated_assault</th>\n",
       "      <th>property_crime</th>\n",
       "      <th>burglary</th>\n",
       "      <th>larceny</th>\n",
       "      <th>motor_vehicle_theft</th>\n",
       "      <th>total_crime</th>\n",
       "      <th>crime_rate</th>\n",
       "    </tr>\n",
       "  </thead>\n",
       "  <tbody>\n",
       "    <tr>\n",
       "      <th>0</th>\n",
       "      <td>AL</td>\n",
       "      <td>2017</td>\n",
       "      <td>4875120</td>\n",
       "      <td>25469</td>\n",
       "      <td>419</td>\n",
       "      <td>2001</td>\n",
       "      <td>4233</td>\n",
       "      <td>18816</td>\n",
       "      <td>143774</td>\n",
       "      <td>31270</td>\n",
       "      <td>99707</td>\n",
       "      <td>12797</td>\n",
       "      <td>338486</td>\n",
       "      <td>6.943132</td>\n",
       "    </tr>\n",
       "    <tr>\n",
       "      <th>1</th>\n",
       "      <td>AL</td>\n",
       "      <td>2018</td>\n",
       "      <td>4887681</td>\n",
       "      <td>25567</td>\n",
       "      <td>383</td>\n",
       "      <td>2032</td>\n",
       "      <td>4047</td>\n",
       "      <td>19105</td>\n",
       "      <td>138702</td>\n",
       "      <td>29101</td>\n",
       "      <td>96328</td>\n",
       "      <td>13273</td>\n",
       "      <td>328538</td>\n",
       "      <td>6.721756</td>\n",
       "    </tr>\n",
       "    <tr>\n",
       "      <th>2</th>\n",
       "      <td>AL</td>\n",
       "      <td>2019</td>\n",
       "      <td>4903185</td>\n",
       "      <td>25046</td>\n",
       "      <td>358</td>\n",
       "      <td>2068</td>\n",
       "      <td>3941</td>\n",
       "      <td>18679</td>\n",
       "      <td>131133</td>\n",
       "      <td>26079</td>\n",
       "      <td>92477</td>\n",
       "      <td>12577</td>\n",
       "      <td>312358</td>\n",
       "      <td>6.370512</td>\n",
       "    </tr>\n",
       "    <tr>\n",
       "      <th>3</th>\n",
       "      <td>AK</td>\n",
       "      <td>2017</td>\n",
       "      <td>739786</td>\n",
       "      <td>6338</td>\n",
       "      <td>62</td>\n",
       "      <td>1074</td>\n",
       "      <td>952</td>\n",
       "      <td>4250</td>\n",
       "      <td>26203</td>\n",
       "      <td>4167</td>\n",
       "      <td>17782</td>\n",
       "      <td>4254</td>\n",
       "      <td>65082</td>\n",
       "      <td>8.797409</td>\n",
       "    </tr>\n",
       "    <tr>\n",
       "      <th>4</th>\n",
       "      <td>AK</td>\n",
       "      <td>2018</td>\n",
       "      <td>735139</td>\n",
       "      <td>6555</td>\n",
       "      <td>47</td>\n",
       "      <td>1212</td>\n",
       "      <td>896</td>\n",
       "      <td>4400</td>\n",
       "      <td>24345</td>\n",
       "      <td>3985</td>\n",
       "      <td>16364</td>\n",
       "      <td>3996</td>\n",
       "      <td>61800</td>\n",
       "      <td>8.406573</td>\n",
       "    </tr>\n",
       "  </tbody>\n",
       "</table>\n",
       "</div>"
      ],
      "text/plain": [
       "  state_abbr  year  population  violent_crime  homicide  rape_legacy  robbery  \\\n",
       "0         AL  2017     4875120          25469       419         2001     4233   \n",
       "1         AL  2018     4887681          25567       383         2032     4047   \n",
       "2         AL  2019     4903185          25046       358         2068     3941   \n",
       "3         AK  2017      739786           6338        62         1074      952   \n",
       "4         AK  2018      735139           6555        47         1212      896   \n",
       "\n",
       "   aggravated_assault  property_crime  burglary  larceny  motor_vehicle_theft  \\\n",
       "0               18816          143774     31270    99707                12797   \n",
       "1               19105          138702     29101    96328                13273   \n",
       "2               18679          131133     26079    92477                12577   \n",
       "3                4250           26203      4167    17782                 4254   \n",
       "4                4400           24345      3985    16364                 3996   \n",
       "\n",
       "   total_crime  crime_rate  \n",
       "0       338486    6.943132  \n",
       "1       328538    6.721756  \n",
       "2       312358    6.370512  \n",
       "3        65082    8.797409  \n",
       "4        61800    8.406573  "
      ]
     },
     "execution_count": 2,
     "metadata": {},
     "output_type": "execute_result"
    }
   ],
   "source": [
    "crimeratedata = pd.read_csv('final_crimes.csv')\n",
    "crimeratedata.head()"
   ]
  },
  {
   "cell_type": "code",
   "execution_count": 3,
   "metadata": {},
   "outputs": [],
   "source": [
    "ca = crimeratedata['state_abbr']=='CA'"
   ]
  },
  {
   "cell_type": "code",
   "execution_count": 4,
   "metadata": {},
   "outputs": [
    {
     "data": {
      "text/html": [
       "<div>\n",
       "<style scoped>\n",
       "    .dataframe tbody tr th:only-of-type {\n",
       "        vertical-align: middle;\n",
       "    }\n",
       "\n",
       "    .dataframe tbody tr th {\n",
       "        vertical-align: top;\n",
       "    }\n",
       "\n",
       "    .dataframe thead th {\n",
       "        text-align: right;\n",
       "    }\n",
       "</style>\n",
       "<table border=\"1\" class=\"dataframe\">\n",
       "  <thead>\n",
       "    <tr style=\"text-align: right;\">\n",
       "      <th></th>\n",
       "      <th>state_abbr</th>\n",
       "      <th>year</th>\n",
       "      <th>population</th>\n",
       "      <th>violent_crime</th>\n",
       "      <th>homicide</th>\n",
       "      <th>rape_legacy</th>\n",
       "      <th>robbery</th>\n",
       "      <th>aggravated_assault</th>\n",
       "      <th>property_crime</th>\n",
       "      <th>burglary</th>\n",
       "      <th>larceny</th>\n",
       "      <th>motor_vehicle_theft</th>\n",
       "      <th>total_crime</th>\n",
       "      <th>crime_rate</th>\n",
       "    </tr>\n",
       "  </thead>\n",
       "  <tbody>\n",
       "    <tr>\n",
       "      <th>12</th>\n",
       "      <td>CA</td>\n",
       "      <td>2017</td>\n",
       "      <td>39399349</td>\n",
       "      <td>178597</td>\n",
       "      <td>1830</td>\n",
       "      <td>14724</td>\n",
       "      <td>56625</td>\n",
       "      <td>105418</td>\n",
       "      <td>987063</td>\n",
       "      <td>176679</td>\n",
       "      <td>642019</td>\n",
       "      <td>168365</td>\n",
       "      <td>2331320</td>\n",
       "      <td>5.917154</td>\n",
       "    </tr>\n",
       "    <tr>\n",
       "      <th>13</th>\n",
       "      <td>CA</td>\n",
       "      <td>2018</td>\n",
       "      <td>39461588</td>\n",
       "      <td>176604</td>\n",
       "      <td>1739</td>\n",
       "      <td>15506</td>\n",
       "      <td>54328</td>\n",
       "      <td>105031</td>\n",
       "      <td>941644</td>\n",
       "      <td>164645</td>\n",
       "      <td>621779</td>\n",
       "      <td>155220</td>\n",
       "      <td>2236496</td>\n",
       "      <td>5.667527</td>\n",
       "    </tr>\n",
       "    <tr>\n",
       "      <th>14</th>\n",
       "      <td>CA</td>\n",
       "      <td>2019</td>\n",
       "      <td>39512223</td>\n",
       "      <td>174331</td>\n",
       "      <td>1690</td>\n",
       "      <td>14799</td>\n",
       "      <td>52301</td>\n",
       "      <td>105541</td>\n",
       "      <td>921114</td>\n",
       "      <td>152555</td>\n",
       "      <td>626802</td>\n",
       "      <td>141757</td>\n",
       "      <td>2190890</td>\n",
       "      <td>5.544841</td>\n",
       "    </tr>\n",
       "    <tr>\n",
       "      <th>263</th>\n",
       "      <td>CA</td>\n",
       "      <td>1995</td>\n",
       "      <td>31589000</td>\n",
       "      <td>305154</td>\n",
       "      <td>3531</td>\n",
       "      <td>10554</td>\n",
       "      <td>104611</td>\n",
       "      <td>186458</td>\n",
       "      <td>1536830</td>\n",
       "      <td>353895</td>\n",
       "      <td>902456</td>\n",
       "      <td>280479</td>\n",
       "      <td>3683968</td>\n",
       "      <td>11.662186</td>\n",
       "    </tr>\n",
       "    <tr>\n",
       "      <th>264</th>\n",
       "      <td>CA</td>\n",
       "      <td>1996</td>\n",
       "      <td>31878000</td>\n",
       "      <td>274996</td>\n",
       "      <td>2916</td>\n",
       "      <td>10244</td>\n",
       "      <td>94222</td>\n",
       "      <td>167614</td>\n",
       "      <td>1385135</td>\n",
       "      <td>312212</td>\n",
       "      <td>830457</td>\n",
       "      <td>242466</td>\n",
       "      <td>3320262</td>\n",
       "      <td>10.415528</td>\n",
       "    </tr>\n",
       "    <tr>\n",
       "      <th>265</th>\n",
       "      <td>CA</td>\n",
       "      <td>1997</td>\n",
       "      <td>32268000</td>\n",
       "      <td>257582</td>\n",
       "      <td>2579</td>\n",
       "      <td>10189</td>\n",
       "      <td>81468</td>\n",
       "      <td>163346</td>\n",
       "      <td>1312367</td>\n",
       "      <td>299240</td>\n",
       "      <td>784405</td>\n",
       "      <td>228722</td>\n",
       "      <td>3139898</td>\n",
       "      <td>9.730687</td>\n",
       "    </tr>\n",
       "    <tr>\n",
       "      <th>266</th>\n",
       "      <td>CA</td>\n",
       "      <td>1998</td>\n",
       "      <td>32667000</td>\n",
       "      <td>229883</td>\n",
       "      <td>2171</td>\n",
       "      <td>9782</td>\n",
       "      <td>68782</td>\n",
       "      <td>149148</td>\n",
       "      <td>1188791</td>\n",
       "      <td>269012</td>\n",
       "      <td>724262</td>\n",
       "      <td>195517</td>\n",
       "      <td>2837348</td>\n",
       "      <td>8.685671</td>\n",
       "    </tr>\n",
       "    <tr>\n",
       "      <th>267</th>\n",
       "      <td>CA</td>\n",
       "      <td>1999</td>\n",
       "      <td>33145121</td>\n",
       "      <td>207879</td>\n",
       "      <td>2005</td>\n",
       "      <td>9363</td>\n",
       "      <td>60039</td>\n",
       "      <td>136472</td>\n",
       "      <td>1053285</td>\n",
       "      <td>223814</td>\n",
       "      <td>660991</td>\n",
       "      <td>168480</td>\n",
       "      <td>2522328</td>\n",
       "      <td>7.609953</td>\n",
       "    </tr>\n",
       "    <tr>\n",
       "      <th>268</th>\n",
       "      <td>CA</td>\n",
       "      <td>2000</td>\n",
       "      <td>33871648</td>\n",
       "      <td>210531</td>\n",
       "      <td>2079</td>\n",
       "      <td>9785</td>\n",
       "      <td>60249</td>\n",
       "      <td>138418</td>\n",
       "      <td>1056183</td>\n",
       "      <td>222293</td>\n",
       "      <td>651855</td>\n",
       "      <td>182035</td>\n",
       "      <td>2533428</td>\n",
       "      <td>7.479494</td>\n",
       "    </tr>\n",
       "    <tr>\n",
       "      <th>269</th>\n",
       "      <td>CA</td>\n",
       "      <td>2001</td>\n",
       "      <td>34600463</td>\n",
       "      <td>212867</td>\n",
       "      <td>2206</td>\n",
       "      <td>9960</td>\n",
       "      <td>64614</td>\n",
       "      <td>136087</td>\n",
       "      <td>1134189</td>\n",
       "      <td>232273</td>\n",
       "      <td>697739</td>\n",
       "      <td>204177</td>\n",
       "      <td>2694112</td>\n",
       "      <td>7.786347</td>\n",
       "    </tr>\n",
       "    <tr>\n",
       "      <th>270</th>\n",
       "      <td>CA</td>\n",
       "      <td>2002</td>\n",
       "      <td>35001986</td>\n",
       "      <td>208388</td>\n",
       "      <td>2395</td>\n",
       "      <td>10198</td>\n",
       "      <td>64968</td>\n",
       "      <td>130827</td>\n",
       "      <td>1176484</td>\n",
       "      <td>238428</td>\n",
       "      <td>715692</td>\n",
       "      <td>222364</td>\n",
       "      <td>2769744</td>\n",
       "      <td>7.913105</td>\n",
       "    </tr>\n",
       "    <tr>\n",
       "      <th>271</th>\n",
       "      <td>CA</td>\n",
       "      <td>2003</td>\n",
       "      <td>35462712</td>\n",
       "      <td>205551</td>\n",
       "      <td>2407</td>\n",
       "      <td>9994</td>\n",
       "      <td>63770</td>\n",
       "      <td>129380</td>\n",
       "      <td>1215086</td>\n",
       "      <td>242274</td>\n",
       "      <td>731486</td>\n",
       "      <td>241326</td>\n",
       "      <td>2841274</td>\n",
       "      <td>8.012004</td>\n",
       "    </tr>\n",
       "    <tr>\n",
       "      <th>272</th>\n",
       "      <td>CA</td>\n",
       "      <td>2004</td>\n",
       "      <td>35842038</td>\n",
       "      <td>189175</td>\n",
       "      <td>2392</td>\n",
       "      <td>9615</td>\n",
       "      <td>61768</td>\n",
       "      <td>115400</td>\n",
       "      <td>1227194</td>\n",
       "      <td>245903</td>\n",
       "      <td>728687</td>\n",
       "      <td>252604</td>\n",
       "      <td>2832738</td>\n",
       "      <td>7.903395</td>\n",
       "    </tr>\n",
       "    <tr>\n",
       "      <th>273</th>\n",
       "      <td>CA</td>\n",
       "      <td>2005</td>\n",
       "      <td>36154147</td>\n",
       "      <td>190178</td>\n",
       "      <td>2503</td>\n",
       "      <td>9392</td>\n",
       "      <td>63622</td>\n",
       "      <td>114661</td>\n",
       "      <td>1200531</td>\n",
       "      <td>250521</td>\n",
       "      <td>692467</td>\n",
       "      <td>257543</td>\n",
       "      <td>2781418</td>\n",
       "      <td>7.693220</td>\n",
       "    </tr>\n",
       "    <tr>\n",
       "      <th>274</th>\n",
       "      <td>CA</td>\n",
       "      <td>2006</td>\n",
       "      <td>36457549</td>\n",
       "      <td>194483</td>\n",
       "      <td>2486</td>\n",
       "      <td>9235</td>\n",
       "      <td>71142</td>\n",
       "      <td>111620</td>\n",
       "      <td>1159988</td>\n",
       "      <td>247230</td>\n",
       "      <td>669103</td>\n",
       "      <td>243655</td>\n",
       "      <td>2708942</td>\n",
       "      <td>7.430401</td>\n",
       "    </tr>\n",
       "    <tr>\n",
       "      <th>275</th>\n",
       "      <td>CA</td>\n",
       "      <td>2007</td>\n",
       "      <td>36553215</td>\n",
       "      <td>191561</td>\n",
       "      <td>2262</td>\n",
       "      <td>9046</td>\n",
       "      <td>70706</td>\n",
       "      <td>109547</td>\n",
       "      <td>1112510</td>\n",
       "      <td>237850</td>\n",
       "      <td>654526</td>\n",
       "      <td>220134</td>\n",
       "      <td>2608142</td>\n",
       "      <td>7.135192</td>\n",
       "    </tr>\n",
       "    <tr>\n",
       "      <th>276</th>\n",
       "      <td>CA</td>\n",
       "      <td>2008</td>\n",
       "      <td>36756666</td>\n",
       "      <td>185329</td>\n",
       "      <td>2142</td>\n",
       "      <td>8903</td>\n",
       "      <td>69388</td>\n",
       "      <td>104896</td>\n",
       "      <td>1080996</td>\n",
       "      <td>237811</td>\n",
       "      <td>650656</td>\n",
       "      <td>192529</td>\n",
       "      <td>2532650</td>\n",
       "      <td>6.890315</td>\n",
       "    </tr>\n",
       "    <tr>\n",
       "      <th>277</th>\n",
       "      <td>CA</td>\n",
       "      <td>2009</td>\n",
       "      <td>36961664</td>\n",
       "      <td>174934</td>\n",
       "      <td>1972</td>\n",
       "      <td>8713</td>\n",
       "      <td>64093</td>\n",
       "      <td>100156</td>\n",
       "      <td>1009433</td>\n",
       "      <td>230198</td>\n",
       "      <td>615402</td>\n",
       "      <td>163833</td>\n",
       "      <td>2368734</td>\n",
       "      <td>6.408624</td>\n",
       "    </tr>\n",
       "    <tr>\n",
       "      <th>278</th>\n",
       "      <td>CA</td>\n",
       "      <td>2010</td>\n",
       "      <td>37338198</td>\n",
       "      <td>164133</td>\n",
       "      <td>1809</td>\n",
       "      <td>8331</td>\n",
       "      <td>58116</td>\n",
       "      <td>95877</td>\n",
       "      <td>981939</td>\n",
       "      <td>228857</td>\n",
       "      <td>600558</td>\n",
       "      <td>152524</td>\n",
       "      <td>2292144</td>\n",
       "      <td>6.138872</td>\n",
       "    </tr>\n",
       "    <tr>\n",
       "      <th>279</th>\n",
       "      <td>CA</td>\n",
       "      <td>2011</td>\n",
       "      <td>37683933</td>\n",
       "      <td>154943</td>\n",
       "      <td>1792</td>\n",
       "      <td>7665</td>\n",
       "      <td>54291</td>\n",
       "      <td>91195</td>\n",
       "      <td>973822</td>\n",
       "      <td>230075</td>\n",
       "      <td>596905</td>\n",
       "      <td>146842</td>\n",
       "      <td>2257530</td>\n",
       "      <td>5.990696</td>\n",
       "    </tr>\n",
       "    <tr>\n",
       "      <th>280</th>\n",
       "      <td>CA</td>\n",
       "      <td>2012</td>\n",
       "      <td>37999878</td>\n",
       "      <td>160944</td>\n",
       "      <td>1884</td>\n",
       "      <td>7837</td>\n",
       "      <td>56521</td>\n",
       "      <td>94702</td>\n",
       "      <td>1049465</td>\n",
       "      <td>245767</td>\n",
       "      <td>635090</td>\n",
       "      <td>168608</td>\n",
       "      <td>2420818</td>\n",
       "      <td>6.370594</td>\n",
       "    </tr>\n",
       "    <tr>\n",
       "      <th>281</th>\n",
       "      <td>CA</td>\n",
       "      <td>2013</td>\n",
       "      <td>38431393</td>\n",
       "      <td>154739</td>\n",
       "      <td>1746</td>\n",
       "      <td>7464</td>\n",
       "      <td>53640</td>\n",
       "      <td>89029</td>\n",
       "      <td>1018907</td>\n",
       "      <td>232058</td>\n",
       "      <td>621557</td>\n",
       "      <td>165292</td>\n",
       "      <td>2344432</td>\n",
       "      <td>6.100305</td>\n",
       "    </tr>\n",
       "    <tr>\n",
       "      <th>282</th>\n",
       "      <td>CA</td>\n",
       "      <td>2014</td>\n",
       "      <td>38792291</td>\n",
       "      <td>153763</td>\n",
       "      <td>1700</td>\n",
       "      <td>8389</td>\n",
       "      <td>48681</td>\n",
       "      <td>91804</td>\n",
       "      <td>947193</td>\n",
       "      <td>202669</td>\n",
       "      <td>592673</td>\n",
       "      <td>151851</td>\n",
       "      <td>2198723</td>\n",
       "      <td>5.667938</td>\n",
       "    </tr>\n",
       "    <tr>\n",
       "      <th>283</th>\n",
       "      <td>CA</td>\n",
       "      <td>2015</td>\n",
       "      <td>38993940</td>\n",
       "      <td>166883</td>\n",
       "      <td>1861</td>\n",
       "      <td>12811</td>\n",
       "      <td>52862</td>\n",
       "      <td>99349</td>\n",
       "      <td>1024914</td>\n",
       "      <td>197404</td>\n",
       "      <td>656517</td>\n",
       "      <td>170993</td>\n",
       "      <td>2383594</td>\n",
       "      <td>6.112729</td>\n",
       "    </tr>\n",
       "    <tr>\n",
       "      <th>284</th>\n",
       "      <td>CA</td>\n",
       "      <td>2016</td>\n",
       "      <td>39250017</td>\n",
       "      <td>174796</td>\n",
       "      <td>1930</td>\n",
       "      <td>13702</td>\n",
       "      <td>54789</td>\n",
       "      <td>104375</td>\n",
       "      <td>1002070</td>\n",
       "      <td>188304</td>\n",
       "      <td>637010</td>\n",
       "      <td>176756</td>\n",
       "      <td>2353732</td>\n",
       "      <td>5.996767</td>\n",
       "    </tr>\n",
       "  </tbody>\n",
       "</table>\n",
       "</div>"
      ],
      "text/plain": [
       "    state_abbr  year  population  violent_crime  homicide  rape_legacy  \\\n",
       "12          CA  2017    39399349         178597      1830        14724   \n",
       "13          CA  2018    39461588         176604      1739        15506   \n",
       "14          CA  2019    39512223         174331      1690        14799   \n",
       "263         CA  1995    31589000         305154      3531        10554   \n",
       "264         CA  1996    31878000         274996      2916        10244   \n",
       "265         CA  1997    32268000         257582      2579        10189   \n",
       "266         CA  1998    32667000         229883      2171         9782   \n",
       "267         CA  1999    33145121         207879      2005         9363   \n",
       "268         CA  2000    33871648         210531      2079         9785   \n",
       "269         CA  2001    34600463         212867      2206         9960   \n",
       "270         CA  2002    35001986         208388      2395        10198   \n",
       "271         CA  2003    35462712         205551      2407         9994   \n",
       "272         CA  2004    35842038         189175      2392         9615   \n",
       "273         CA  2005    36154147         190178      2503         9392   \n",
       "274         CA  2006    36457549         194483      2486         9235   \n",
       "275         CA  2007    36553215         191561      2262         9046   \n",
       "276         CA  2008    36756666         185329      2142         8903   \n",
       "277         CA  2009    36961664         174934      1972         8713   \n",
       "278         CA  2010    37338198         164133      1809         8331   \n",
       "279         CA  2011    37683933         154943      1792         7665   \n",
       "280         CA  2012    37999878         160944      1884         7837   \n",
       "281         CA  2013    38431393         154739      1746         7464   \n",
       "282         CA  2014    38792291         153763      1700         8389   \n",
       "283         CA  2015    38993940         166883      1861        12811   \n",
       "284         CA  2016    39250017         174796      1930        13702   \n",
       "\n",
       "     robbery  aggravated_assault  property_crime  burglary  larceny  \\\n",
       "12     56625              105418          987063    176679   642019   \n",
       "13     54328              105031          941644    164645   621779   \n",
       "14     52301              105541          921114    152555   626802   \n",
       "263   104611              186458         1536830    353895   902456   \n",
       "264    94222              167614         1385135    312212   830457   \n",
       "265    81468              163346         1312367    299240   784405   \n",
       "266    68782              149148         1188791    269012   724262   \n",
       "267    60039              136472         1053285    223814   660991   \n",
       "268    60249              138418         1056183    222293   651855   \n",
       "269    64614              136087         1134189    232273   697739   \n",
       "270    64968              130827         1176484    238428   715692   \n",
       "271    63770              129380         1215086    242274   731486   \n",
       "272    61768              115400         1227194    245903   728687   \n",
       "273    63622              114661         1200531    250521   692467   \n",
       "274    71142              111620         1159988    247230   669103   \n",
       "275    70706              109547         1112510    237850   654526   \n",
       "276    69388              104896         1080996    237811   650656   \n",
       "277    64093              100156         1009433    230198   615402   \n",
       "278    58116               95877          981939    228857   600558   \n",
       "279    54291               91195          973822    230075   596905   \n",
       "280    56521               94702         1049465    245767   635090   \n",
       "281    53640               89029         1018907    232058   621557   \n",
       "282    48681               91804          947193    202669   592673   \n",
       "283    52862               99349         1024914    197404   656517   \n",
       "284    54789              104375         1002070    188304   637010   \n",
       "\n",
       "     motor_vehicle_theft  total_crime  crime_rate  \n",
       "12                168365      2331320    5.917154  \n",
       "13                155220      2236496    5.667527  \n",
       "14                141757      2190890    5.544841  \n",
       "263               280479      3683968   11.662186  \n",
       "264               242466      3320262   10.415528  \n",
       "265               228722      3139898    9.730687  \n",
       "266               195517      2837348    8.685671  \n",
       "267               168480      2522328    7.609953  \n",
       "268               182035      2533428    7.479494  \n",
       "269               204177      2694112    7.786347  \n",
       "270               222364      2769744    7.913105  \n",
       "271               241326      2841274    8.012004  \n",
       "272               252604      2832738    7.903395  \n",
       "273               257543      2781418    7.693220  \n",
       "274               243655      2708942    7.430401  \n",
       "275               220134      2608142    7.135192  \n",
       "276               192529      2532650    6.890315  \n",
       "277               163833      2368734    6.408624  \n",
       "278               152524      2292144    6.138872  \n",
       "279               146842      2257530    5.990696  \n",
       "280               168608      2420818    6.370594  \n",
       "281               165292      2344432    6.100305  \n",
       "282               151851      2198723    5.667938  \n",
       "283               170993      2383594    6.112729  \n",
       "284               176756      2353732    5.996767  "
      ]
     },
     "execution_count": 4,
     "metadata": {},
     "output_type": "execute_result"
    }
   ],
   "source": [
    "cacrimerate = crimeratedata.loc[ca]\n",
    "cacrimerate"
   ]
  },
  {
   "cell_type": "code",
   "execution_count": 5,
   "metadata": {},
   "outputs": [
    {
     "name": "stdout",
     "output_type": "stream",
     "text": [
      "Shape:  (25, 1) (25, 1)\n"
     ]
    },
    {
     "data": {
      "text/plain": [
       "array([[2017],\n",
       "       [2018],\n",
       "       [2019],\n",
       "       [1995],\n",
       "       [1996],\n",
       "       [1997],\n",
       "       [1998],\n",
       "       [1999],\n",
       "       [2000],\n",
       "       [2001],\n",
       "       [2002],\n",
       "       [2003],\n",
       "       [2004],\n",
       "       [2005],\n",
       "       [2006],\n",
       "       [2007],\n",
       "       [2008],\n",
       "       [2009],\n",
       "       [2010],\n",
       "       [2011],\n",
       "       [2012],\n",
       "       [2013],\n",
       "       [2014],\n",
       "       [2015],\n",
       "       [2016]])"
      ]
     },
     "execution_count": 5,
     "metadata": {},
     "output_type": "execute_result"
    }
   ],
   "source": [
    "# Assign the data to X and y\n",
    "# Note: Sklearn requires a two-dimensional array of values\n",
    "# so we use reshape to create this\n",
    "\n",
    "X = cacrimerate.year.values.reshape(-1, 1)\n",
    "y = cacrimerate.crime_rate.values.reshape(-1, 1)\n",
    "\n",
    "print(\"Shape: \", X.shape, y.shape)\n",
    "X"
   ]
  },
  {
   "cell_type": "code",
   "execution_count": 6,
   "metadata": {},
   "outputs": [
    {
     "data": {
      "text/plain": [
       "<matplotlib.collections.PathCollection at 0x7ff59dc425d0>"
      ]
     },
     "execution_count": 6,
     "metadata": {},
     "output_type": "execute_result"
    },
    {
     "data": {
      "image/png": "[encoded data removed]",
      "text/plain": [
       "<Figure size 432x288 with 1 Axes>"
      ]
     },
     "metadata": {
      "needs_background": "light"
     },
     "output_type": "display_data"
    }
   ],
   "source": [
    "# Plot the data\n",
    "\n",
    "### BEGIN SOLUTION\n",
    "\n",
    "plt.scatter(X, y)\n",
    "\n",
    "### END SOLUTION"
   ]
  },
  {
   "cell_type": "code",
   "execution_count": 7,
   "metadata": {},
   "outputs": [],
   "source": [
    "# Use sklearn's `train_test_split` to split the data into training and testing\n",
    "\n",
    "from sklearn.model_selection import train_test_split\n",
    "\n",
    "### BEGIN SOLUTION\n",
    "\n",
    "X_train, X_test, y_train, y_test = train_test_split(X, y, random_state=42)\n",
    "\n",
    "### END SOLUTION"
   ]
  },
  {
   "cell_type": "code",
   "execution_count": 8,
   "metadata": {},
   "outputs": [],
   "source": [
    "# Create the model\n",
    "\n",
    "### BEGIN SOLUTION\n",
    "\n",
    "from sklearn.linear_model import LinearRegression\n",
    "\n",
    "model = LinearRegression()\n",
    "\n",
    "### END SOLUTION"
   ]
  },
  {
   "cell_type": "code",
   "execution_count": 9,
   "metadata": {},
   "outputs": [
    {
     "data": {
      "text/plain": [
       "LinearRegression(copy_X=True, fit_intercept=True, n_jobs=None, normalize=False)"
      ]
     },
     "execution_count": 9,
     "metadata": {},
     "output_type": "execute_result"
    }
   ],
   "source": [
    "# Fit the model to the training data. \n",
    "\n",
    "### BEGIN SOLUTION\n",
    "\n",
    "model.fit(X_train, y_train)\n",
    "\n",
    "### END SOLUTION"
   ]
  },
  {
   "cell_type": "code",
   "execution_count": 10,
   "metadata": {},
   "outputs": [
    {
     "name": "stdout",
     "output_type": "stream",
     "text": [
      "Mean Squared Error (MSE): 0.4550503543384387\n",
      "R-squared (R2 ): 0.24362140257356957\n"
     ]
    }
   ],
   "source": [
    "# Calculate the mean_squared_error and the r-squared value\n",
    "# for the testing data\n",
    "\n",
    "from sklearn.metrics import mean_squared_error, r2_score\n",
    "\n",
    "### BEGIN SOLUTION\n",
    "\n",
    "# Use our model to make predictions\n",
    "predicted = model.predict(X_test)\n",
    "\n",
    "# Score the predictions with mse and r2\n",
    "mse = mean_squared_error(y_test, predicted)\n",
    "r2 = r2_score(y_test, predicted)\n",
    "\n",
    "print(f\"Mean Squared Error (MSE): {mse}\")\n",
    "print(f\"R-squared (R2 ): {r2}\")\n",
    "\n",
    "### END SOLUTION"
   ]
  },
  {
   "cell_type": "code",
   "execution_count": 11,
   "metadata": {},
   "outputs": [
    {
     "data": {
      "text/plain": [
       "0.2436214025735696"
      ]
     },
     "execution_count": 11,
     "metadata": {},
     "output_type": "execute_result"
    }
   ],
   "source": [
    "# Call the `score` method on the model to show the r2 score\n",
    "\n",
    "### BEGIN SOLUTION\n",
    "model.score(X_test, y_test)\n",
    "### END SOLUTION"
   ]
  },
  {
   "cell_type": "code",
   "execution_count": 12,
   "metadata": {},
   "outputs": [
    {
     "name": "stdout",
     "output_type": "stream",
     "text": [
      "Training Score: 0.8394984181406148\n",
      "Testing Score: 0.2436214025735696\n"
     ]
    }
   ],
   "source": [
    "# Fit the model to the training data and calculate the scores for the training and testing data\n",
    "\n",
    "### BEGIN SOLUTION\n",
    "model.fit(X_train, y_train)\n",
    "training_score = model.score(X_train, y_train)\n",
    "testing_score = model.score(X_test, y_test)\n",
    "\n",
    "### END SOLUTION \n",
    "\n",
    "print(f\"Training Score: {training_score}\")\n",
    "print(f\"Testing Score: {testing_score}\")"
   ]
  },
  {
   "cell_type": "code",
   "execution_count": 13,
   "metadata": {},
   "outputs": [
    {
     "data": {
      "image/png": "[encoded data removed]",
      "text/plain": [
       "<Figure size 432x288 with 1 Axes>"
      ]
     },
     "metadata": {
      "needs_background": "light"
     },
     "output_type": "display_data"
    }
   ],
   "source": [
    "# Plot the Residuals for the Training and Testing data\n",
    "\n",
    "### BEGIN SOLUTION\n",
    "plt.scatter(model.predict(X_train), model.predict(X_train) - y_train, c=\"blue\", label=\"Training Data\")\n",
    "plt.scatter(model.predict(X_test), model.predict(X_test) - y_test, c=\"orange\", label=\"Testing Data\")\n",
    "plt.legend()\n",
    "plt.hlines(y=0, xmin=y.min(), xmax=y.max())\n",
    "plt.title(\"CA Summary Crime Rate Residual Plot\")\n",
    "plt.xlabel('Independent Variable: X')\n",
    "plt.ylabel('Residual Values')\n",
    "plt.savefig('ca_summary_crimerate_residualplot.png')\n",
    "### END SOLUTION"
   ]
  },
  {
   "cell_type": "code",
   "execution_count": 14,
   "metadata": {},
   "outputs": [],
   "source": [
    "# This residual plot gives an visual understanding of how \"good\" your predicted values are. \n",
    "# Positive values for the residual (on the y-axis) mean the prediction was too low. \n",
    "# Negative values mean the prediction was too high. \n",
    "# 0 means the guess was exactly correct."
   ]
  },
  {
   "cell_type": "code",
   "execution_count": 15,
   "metadata": {},
   "outputs": [
    {
     "name": "stdout",
     "output_type": "stream",
     "text": [
      "Min X Value: [[1995]]\n",
      "Max X Value: [[2019]]\n"
     ]
    }
   ],
   "source": [
    "# Note: we have to transform our min and max values \n",
    "# so they are in the format: array([[ 1.17]])\n",
    "# This is the required format for `model.predict()`\n",
    "\n",
    "x_min = np.array([[X.min()]])\n",
    "x_max = np.array([[X.max()]])\n",
    "print(f\"Min X Value: {x_min}\")\n",
    "print(f\"Max X Value: {x_max}\")"
   ]
  },
  {
   "cell_type": "code",
   "execution_count": 16,
   "metadata": {},
   "outputs": [],
   "source": [
    "# Calculate the y_min and y_max using model.predict and x_min and x_max\n",
    "\n",
    "### BEGIN SOLUTION\n",
    "y_min = model.predict(x_min)\n",
    "y_max = model.predict(x_max)\n",
    "### END SOLUTION"
   ]
  },
  {
   "cell_type": "code",
   "execution_count": 17,
   "metadata": {},
   "outputs": [
    {
     "data": {
      "image/png": "[encoded data removed]",
      "text/plain": [
       "<Figure size 576x288 with 1 Axes>"
      ]
     },
     "metadata": {
      "needs_background": "light"
     },
     "output_type": "display_data"
    }
   ],
   "source": [
    "# Plot X and y using plt.scatter\n",
    "# Plot the model fit line using [x_min[0], x_max[0]], [y_min[0], y_max[0]]\n",
    "\n",
    "### BEGIN SOLUTION\n",
    "plt.scatter(X, y, c='blue')\n",
    "plt.plot([x_min[0], x_max[0]], [y_min[0], y_max[0]], c='red')\n",
    "plt.title(\"CA Summary Crime Rate Trend\")\n",
    "plt.xlabel(\"Year\")\n",
    "plt.ylabel(\"% of All Crime by Population\")\n",
    "plt.grid(True)\n",
    "plt.gcf().set_size_inches(8,4)\n",
    "plt.legend(('Predicted Crime Rate', 'Actual Crime Rate'), loc='best', framealpha=0.25, prop={'size':'small', 'family':'monospace'})\n",
    "plt.savefig('ca_summary_crimerate_trend.png')\n",
    "### END SOLUTION"
   ]
  },
  {
   "cell_type": "code",
   "execution_count": 18,
   "metadata": {},
   "outputs": [
    {
     "data": {
      "text/plain": [
       "array([[9.86355203]])"
      ]
     },
     "execution_count": 18,
     "metadata": {},
     "output_type": "execute_result"
    }
   ],
   "source": [
    "prediction = model.predict([[1995]])\n",
    "prediction"
   ]
  },
  {
   "cell_type": "code",
   "execution_count": 19,
   "metadata": {},
   "outputs": [
    {
     "data": {
      "text/plain": [
       "array([[8.81791184]])"
      ]
     },
     "execution_count": 19,
     "metadata": {},
     "output_type": "execute_result"
    }
   ],
   "source": [
    "prediction1 = model.predict([[2000]])\n",
    "prediction1"
   ]
  },
  {
   "cell_type": "code",
   "execution_count": 20,
   "metadata": {},
   "outputs": [
    {
     "data": {
      "text/plain": [
       "array([[7.77227165]])"
      ]
     },
     "execution_count": 20,
     "metadata": {},
     "output_type": "execute_result"
    }
   ],
   "source": [
    "prediction2 = model.predict([[2005]])\n",
    "prediction2"
   ]
  },
  {
   "cell_type": "code",
   "execution_count": 21,
   "metadata": {},
   "outputs": [
    {
     "data": {
      "text/plain": [
       "array([[6.72663145]])"
      ]
     },
     "execution_count": 21,
     "metadata": {},
     "output_type": "execute_result"
    }
   ],
   "source": [
    "prediction3 = model.predict([[2010]])\n",
    "prediction3"
   ]
  },
  {
   "cell_type": "code",
   "execution_count": 22,
   "metadata": {},
   "outputs": [
    {
     "data": {
      "text/plain": [
       "array([[5.68099126]])"
      ]
     },
     "execution_count": 22,
     "metadata": {},
     "output_type": "execute_result"
    }
   ],
   "source": [
    "prediction4 = model.predict([[2015]])\n",
    "prediction4"
   ]
  },
  {
   "cell_type": "code",
   "execution_count": 23,
   "metadata": {},
   "outputs": [
    {
     "data": {
      "text/plain": [
       "array([[4.63535107]])"
      ]
     },
     "execution_count": 23,
     "metadata": {},
     "output_type": "execute_result"
    }
   ],
   "source": [
    "prediction5 = model.predict([[2020]])\n",
    "prediction5"
   ]
  }
 ],
 "metadata": {
  "kernelspec": {
   "display_name": "Python 3",
   "language": "python",
   "name": "python3"
  },
  "language_info": {
   "codemirror_mode": {
    "name": "ipython",
    "version": 3
   },
   "file_extension": ".py",
   "mimetype": "text/x-python",
   "name": "python",
   "nbconvert_exporter": "python",
   "pygments_lexer": "ipython3",
   "version": "3.7.6"
  }
 },
 "nbformat": 4,
 "nbformat_minor": 4
}
